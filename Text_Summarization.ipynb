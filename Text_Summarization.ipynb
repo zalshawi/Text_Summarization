{
 "cells": [
  {
   "cell_type": "markdown",
   "id": "5a49df1f-eb57-42eb-9ca9-d75f0b9cb0bb",
   "metadata": {},
   "source": [
    "# Text Summarization"
   ]
  },
  {
   "cell_type": "code",
   "execution_count": 1,
   "id": "18157389",
   "metadata": {},
   "outputs": [],
   "source": [
    "# connect to DB\n",
    "import mysql.connector\n",
    "\n",
    "db = mysql.connector.connect(host= 'x',\n",
    "                             database='x',\n",
    "                             user='x',\n",
    "                             password='x')"
   ]
  },
  {
   "cell_type": "markdown",
   "id": "9c3148f9",
   "metadata": {
    "tags": []
   },
   "source": [
    "## connect to DB and summarize the text"
   ]
  },
  {
   "cell_type": "code",
   "execution_count": 2,
   "id": "9b75b3fc",
   "metadata": {},
   "outputs": [],
   "source": [
    "query = '''\n",
    "SELECT id, title, case_judgement_text, year, court\n",
    "FROM uganda_cases\n",
    "WHERE case_judgement_text IS NOT NULL AND judges IS NOT NULL\n",
    "GROUP BY court\n",
    "ORDER BY RAND() \n",
    "'''"
   ]
  },
  {
   "cell_type": "code",
   "execution_count": 3,
   "id": "d9c81b97",
   "metadata": {
    "scrolled": true
   },
   "outputs": [
    {
     "data": {
      "text/html": [
       "<div>\n",
       "<style scoped>\n",
       "    .dataframe tbody tr th:only-of-type {\n",
       "        vertical-align: middle;\n",
       "    }\n",
       "\n",
       "    .dataframe tbody tr th {\n",
       "        vertical-align: top;\n",
       "    }\n",
       "\n",
       "    .dataframe thead th {\n",
       "        text-align: right;\n",
       "    }\n",
       "</style>\n",
       "<table border=\"1\" class=\"dataframe\">\n",
       "  <thead>\n",
       "    <tr style=\"text-align: right;\">\n",
       "      <th></th>\n",
       "      <th>id</th>\n",
       "      <th>title</th>\n",
       "      <th>case_judgement_text</th>\n",
       "      <th>year</th>\n",
       "      <th>court</th>\n",
       "    </tr>\n",
       "  </thead>\n",
       "  <tbody>\n",
       "    <tr>\n",
       "      <th>0</th>\n",
       "      <td>2555</td>\n",
       "      <td>Alenyo v The Chief Registrar Courts of Judicat...</td>\n",
       "      <td>THE REPUBLIC OF UGANDA IN THE CONSTITUTIONAL C...</td>\n",
       "      <td>2021</td>\n",
       "      <td>Constitutional Court of Uganda</td>\n",
       "    </tr>\n",
       "    <tr>\n",
       "      <th>1</th>\n",
       "      <td>2735</td>\n",
       "      <td>City Aluminium &amp; Glass Services v Barclays Ban...</td>\n",
       "      <td>The Republic of Uganda In The High Court of Ug...</td>\n",
       "      <td>2021</td>\n",
       "      <td>Commercial Court of Uganda</td>\n",
       "    </tr>\n",
       "    <tr>\n",
       "      <th>2</th>\n",
       "      <td>11312</td>\n",
       "      <td>Ahamad Ssebuwufu v Uganda (HCT-OO-ICD-CM-2019/...</td>\n",
       "      <td>IN THE REPUBLIC OF UGANDA IN THE HIGH COURT OF...</td>\n",
       "      <td>2020</td>\n",
       "      <td>HC: International Crimes Division (Uganda)</td>\n",
       "    </tr>\n",
       "    <tr>\n",
       "      <th>3</th>\n",
       "      <td>11322</td>\n",
       "      <td>Ocepa v Uganda (Civil Miscellaneous Applicatio...</td>\n",
       "      <td>THE REPUBLIC OF UGANDA THE HIGH COURT OF UGAND...</td>\n",
       "      <td>2021</td>\n",
       "      <td>HC: Anti corruption Division (Uganda)</td>\n",
       "    </tr>\n",
       "    <tr>\n",
       "      <th>4</th>\n",
       "      <td>11509</td>\n",
       "      <td>Odoi Onen Mutasa v Independent National Electo...</td>\n",
       "      <td>THE REPUBLIC OF UGANDA IN THE HIGH COURT OF UG...</td>\n",
       "      <td>2021</td>\n",
       "      <td>Election Petitions of Uganda</td>\n",
       "    </tr>\n",
       "    <tr>\n",
       "      <th>5</th>\n",
       "      <td>4737</td>\n",
       "      <td>Hatega v Attorney General and Anor (Labour Dis...</td>\n",
       "      <td>THE REPUBLIC OF UGANDA IN THE INDUSTRIAL COURT...</td>\n",
       "      <td>2021</td>\n",
       "      <td>Industrial Court of Uganda</td>\n",
       "    </tr>\n",
       "    <tr>\n",
       "      <th>6</th>\n",
       "      <td>7184</td>\n",
       "      <td>In the Matter of Judicial Review by Editors Gu...</td>\n",
       "      <td>THE REPUBLIC OF UGANDA IN THE HIGH COURT OF UG...</td>\n",
       "      <td>2021</td>\n",
       "      <td>HC: Civil Division (Uganda)</td>\n",
       "    </tr>\n",
       "    <tr>\n",
       "      <th>7</th>\n",
       "      <td>10119</td>\n",
       "      <td>Kiddu (Suing as next friend to her son MTS) v ...</td>\n",
       "      <td>THE REPUBLIC OF UGANDA IN THE HIGH COURT OF UG...</td>\n",
       "      <td>2021</td>\n",
       "      <td>HC: Family Division (Uganda)</td>\n",
       "    </tr>\n",
       "    <tr>\n",
       "      <th>8</th>\n",
       "      <td>11695</td>\n",
       "      <td>Farid Meghani v Uganda Revenue Authority (Civi...</td>\n",
       "      <td>THE REPUBLIC OF UGANDA IN THE TAX APPEALS TRIB...</td>\n",
       "      <td>2021</td>\n",
       "      <td>Tax Appeals Tribunal (Uganda)</td>\n",
       "    </tr>\n",
       "    <tr>\n",
       "      <th>9</th>\n",
       "      <td>4934</td>\n",
       "      <td>Iganga Town Council Now Iganga Municipal Counc...</td>\n",
       "      <td>THE REPUBLIC OF UGANDA IN THE HIGH COURT OF UG...</td>\n",
       "      <td>2021</td>\n",
       "      <td>High Court of Uganda</td>\n",
       "    </tr>\n",
       "    <tr>\n",
       "      <th>10</th>\n",
       "      <td>11650</td>\n",
       "      <td>Bwengye v Bishop Stuart University (EOC/CR-201...</td>\n",
       "      <td>THE REPUBLIC OF UGANDA AT THE EQUAL OPPORTUNIT...</td>\n",
       "      <td>2018</td>\n",
       "      <td>Equal Opportunities Commission</td>\n",
       "    </tr>\n",
       "    <tr>\n",
       "      <th>11</th>\n",
       "      <td>10387</td>\n",
       "      <td>Kagimu and 7 Others v Sekatawa and 12 Others (...</td>\n",
       "      <td>THE REPUBLIC OF UGANDA   IN THE HIGH COURT OF ...</td>\n",
       "      <td>2021</td>\n",
       "      <td>HC: Land Division (Uganda)</td>\n",
       "    </tr>\n",
       "    <tr>\n",
       "      <th>12</th>\n",
       "      <td>11651</td>\n",
       "      <td>Pile Corporation Ltd v Twed Property Developme...</td>\n",
       "      <td>THE REPUBLIC OF UGANDA   THE CENTRE FOR ARBITR...</td>\n",
       "      <td>2018</td>\n",
       "      <td>Center for Arbitration and Dispute Resolution ...</td>\n",
       "    </tr>\n",
       "    <tr>\n",
       "      <th>13</th>\n",
       "      <td>926</td>\n",
       "      <td>Bank of Uganda and Ors v Ham Enterprises Ltd (...</td>\n",
       "      <td>THE REPUBLIC OF UGANDA\\n\\nIN THE COURT OF APPE...</td>\n",
       "      <td>2021</td>\n",
       "      <td>Court of Appeal of Uganda</td>\n",
       "    </tr>\n",
       "    <tr>\n",
       "      <th>14</th>\n",
       "      <td>11413</td>\n",
       "      <td>Formular Feeds Limited and Anor v KCB Bank Uga...</td>\n",
       "      <td>THE REPUBLIC OF UGANDA. IN THE HIGH COURT OF U...</td>\n",
       "      <td>2020</td>\n",
       "      <td>High Court: Execution and Bailiffs Division (U...</td>\n",
       "    </tr>\n",
       "    <tr>\n",
       "      <th>15</th>\n",
       "      <td>1</td>\n",
       "      <td>Kyagulanyi Ssentumu v Yoweri Museveni Tibuhabu...</td>\n",
       "      <td>THE REPUBLIC OF UGANDA IN THE SUPREME CO...</td>\n",
       "      <td>2021</td>\n",
       "      <td>Supreme Court of Uganda</td>\n",
       "    </tr>\n",
       "    <tr>\n",
       "      <th>16</th>\n",
       "      <td>8892</td>\n",
       "      <td>Senyimba v Uganda (Criminal Revision Applicati...</td>\n",
       "      <td>THE REPUBLIC OF UGANDA IN THE HIGH COURT OF ...</td>\n",
       "      <td>2021</td>\n",
       "      <td>HC: Criminal Division (Uganda)</td>\n",
       "    </tr>\n",
       "  </tbody>\n",
       "</table>\n",
       "</div>"
      ],
      "text/plain": [
       "       id                                              title  \\\n",
       "0    2555  Alenyo v The Chief Registrar Courts of Judicat...   \n",
       "1    2735  City Aluminium & Glass Services v Barclays Ban...   \n",
       "2   11312  Ahamad Ssebuwufu v Uganda (HCT-OO-ICD-CM-2019/...   \n",
       "3   11322  Ocepa v Uganda (Civil Miscellaneous Applicatio...   \n",
       "4   11509  Odoi Onen Mutasa v Independent National Electo...   \n",
       "5    4737  Hatega v Attorney General and Anor (Labour Dis...   \n",
       "6    7184  In the Matter of Judicial Review by Editors Gu...   \n",
       "7   10119  Kiddu (Suing as next friend to her son MTS) v ...   \n",
       "8   11695  Farid Meghani v Uganda Revenue Authority (Civi...   \n",
       "9    4934  Iganga Town Council Now Iganga Municipal Counc...   \n",
       "10  11650  Bwengye v Bishop Stuart University (EOC/CR-201...   \n",
       "11  10387  Kagimu and 7 Others v Sekatawa and 12 Others (...   \n",
       "12  11651  Pile Corporation Ltd v Twed Property Developme...   \n",
       "13    926  Bank of Uganda and Ors v Ham Enterprises Ltd (...   \n",
       "14  11413  Formular Feeds Limited and Anor v KCB Bank Uga...   \n",
       "15      1  Kyagulanyi Ssentumu v Yoweri Museveni Tibuhabu...   \n",
       "16   8892  Senyimba v Uganda (Criminal Revision Applicati...   \n",
       "\n",
       "                                  case_judgement_text  year  \\\n",
       "0   THE REPUBLIC OF UGANDA IN THE CONSTITUTIONAL C...  2021   \n",
       "1   The Republic of Uganda In The High Court of Ug...  2021   \n",
       "2   IN THE REPUBLIC OF UGANDA IN THE HIGH COURT OF...  2020   \n",
       "3   THE REPUBLIC OF UGANDA THE HIGH COURT OF UGAND...  2021   \n",
       "4   THE REPUBLIC OF UGANDA IN THE HIGH COURT OF UG...  2021   \n",
       "5   THE REPUBLIC OF UGANDA IN THE INDUSTRIAL COURT...  2021   \n",
       "6   THE REPUBLIC OF UGANDA IN THE HIGH COURT OF UG...  2021   \n",
       "7   THE REPUBLIC OF UGANDA IN THE HIGH COURT OF UG...  2021   \n",
       "8   THE REPUBLIC OF UGANDA IN THE TAX APPEALS TRIB...  2021   \n",
       "9   THE REPUBLIC OF UGANDA IN THE HIGH COURT OF UG...  2021   \n",
       "10  THE REPUBLIC OF UGANDA AT THE EQUAL OPPORTUNIT...  2018   \n",
       "11  THE REPUBLIC OF UGANDA   IN THE HIGH COURT OF ...  2021   \n",
       "12  THE REPUBLIC OF UGANDA   THE CENTRE FOR ARBITR...  2018   \n",
       "13  THE REPUBLIC OF UGANDA\\n\\nIN THE COURT OF APPE...  2021   \n",
       "14  THE REPUBLIC OF UGANDA. IN THE HIGH COURT OF U...  2020   \n",
       "15        THE REPUBLIC OF UGANDA IN THE SUPREME CO...  2021   \n",
       "16    THE REPUBLIC OF UGANDA IN THE HIGH COURT OF ...  2021   \n",
       "\n",
       "                                                court  \n",
       "0                      Constitutional Court of Uganda  \n",
       "1                          Commercial Court of Uganda  \n",
       "2          HC: International Crimes Division (Uganda)  \n",
       "3               HC: Anti corruption Division (Uganda)  \n",
       "4                        Election Petitions of Uganda  \n",
       "5                          Industrial Court of Uganda  \n",
       "6                         HC: Civil Division (Uganda)  \n",
       "7                        HC: Family Division (Uganda)  \n",
       "8                       Tax Appeals Tribunal (Uganda)  \n",
       "9                                High Court of Uganda  \n",
       "10                     Equal Opportunities Commission  \n",
       "11                         HC: Land Division (Uganda)  \n",
       "12  Center for Arbitration and Dispute Resolution ...  \n",
       "13                          Court of Appeal of Uganda  \n",
       "14  High Court: Execution and Bailiffs Division (U...  \n",
       "15                            Supreme Court of Uganda  \n",
       "16                     HC: Criminal Division (Uganda)  "
      ]
     },
     "execution_count": 3,
     "metadata": {},
     "output_type": "execute_result"
    }
   ],
   "source": [
    "import pandas as pd\n",
    "df = pd.read_sql_query(query, db)\n",
    "df"
   ]
  },
  {
   "cell_type": "code",
   "execution_count": 4,
   "id": "035d0f2b",
   "metadata": {},
   "outputs": [],
   "source": [
    "df.to_csv('cases_sample.csv')"
   ]
  },
  {
   "cell_type": "code",
   "execution_count": 5,
   "id": "19ab9949",
   "metadata": {},
   "outputs": [
    {
     "data": {
      "text/plain": [
       "id                                                                  2555\n",
       "title                  Alenyo v The Chief Registrar Courts of Judicat...\n",
       "case_judgement_text    THE REPUBLIC OF UGANDA IN THE CONSTITUTIONAL C...\n",
       "year                                                                2021\n",
       "court                                     Constitutional Court of Uganda\n",
       "Name: 0, dtype: object"
      ]
     },
     "execution_count": 5,
     "metadata": {},
     "output_type": "execute_result"
    }
   ],
   "source": [
    "df.iloc[0]"
   ]
  },
  {
   "cell_type": "code",
   "execution_count": 6,
   "id": "0fd88b36",
   "metadata": {
    "scrolled": true
   },
   "outputs": [
    {
     "data": {
      "text/plain": [
       "'the republic of uganda in the constitutional court of uganda at kampala (coram: egonda-ntende, elizabeth musoke, barishaki cheborion, muzamiru kibeedi & irene mulyagonja, jjcc) constitutional petition no. 32 of 2014 between alenyo george william ::::::::::::::::::::::::::::::::::::::::::::::::: petitioner , versus the chief registrar, courts of judicature ] the secretary law council\\xa0\\xa0\\xa0\\xa0\\xa0\\xa0\\xa0\\xa0\\xa0\\xa0\\xa0\\xa0\\xa0\\xa0\\xa0\\xa0\\xa0\\xa0\\xa0\\xa0\\xa0\\xa0\\xa0\\xa0\\xa0\\xa0\\xa0\\xa0\\xa0\\xa0\\xa0\\xa0 ] attorney general\\xa0\\xa0\\xa0\\xa0\\xa0\\xa0\\xa0\\xa0\\xa0\\xa0\\xa0\\xa0\\xa0\\xa0\\xa0\\xa0\\xa0\\xa0\\xa0\\xa0\\xa0\\xa0\\xa0\\xa0\\xa0\\xa0\\xa0\\xa0\\xa0\\xa0\\xa0\\xa0 *\\xa0\\xa0\\xa0\\xa0\\xa0\\xa0\\xa0\\xa0\\xa0\\xa0\\xa0\\xa0\\xa0\\xa0\\xa0\\xa0\\xa0\\xa0\\xa0\\xa0\\xa0\\xa0\\xa0 respondents judgment of the court the petitioner was enrolled as an advocate of the courts of judicature of uganda in 1994. but his practice as an advocate appears to have been bedevilled by many complaints of professional misconduct that were filed against him before the law council. in the proceedings of the disciplinary committee of the law council held on 26.08.2005, 19 complaints against him were cause listed for hearing on that single day. the said complaints included one which had been filed by the then chief magistrate of gulu, his worship silver cohens okullo (rip) to the effect that he (the chief magistrate) had been physically assaulted by the petitioner on 23rd march 2004 within the premises of gulu court, vide lcd 58/2004. the disciplinary committee found the petitioner guilty of professional misconduct in lcd 58/2004 and ordered, inter alia that the petitioner “be and is hereby struck off the roll of advocates with effect from the date of this ruling [18.09.2009/. as a consequence, the chief registrar of the courts of judicature denied the petitioner a practicing certificate, which is a prerequisite for an advocate to practice his/her profession in uganda. the petitioner brought this petition under article 137(3) of the 1995 constitution of uganda alleging that: “the denial by the chief registrar of the courts of judicature to issue him a practicing certificate is inconsistent with and contravenes his right to practice his profession as guaranteed by article 40(2) of the constitution. the purported hearing of a complaint against him by the law council without keeping him informed or notified of the proceedings contravened his right to a fair hearing as guaranteed by article 28(1) of the constitution and article 43 of the constitution. the purported reliance on the proceedings of the law council of 2009 by the chief registrar, which proceedings and rulings contravened section 36 of the advocates act, did negate the petitioner’s right to fair treatment before the law council as guaranteed by article 42 of the constitution. the denial of his right to practice while he lawfully remains on the roll of advocates and while he has never been lawfully struck off the roll as provided by the advocates act breaches his right to practice his profession. ” the petitioner prayed for the following declarations: /. “that the proceedings of the law council of 2009 if at all they took place (which is denied) was a nullity for not affording the petitioner a hearing and hence inconsistent with the constitution. ii. that the purported striking of the petitioner off the roll of advocates never lawfully occurred and the petitioner remains on the roll of advocates and the unlawful striking off, if at all, was unconstitutional and in contravention of the constitution. hi. that the petitioner be afforded his right to practice as an advocate. iv. that the respondents meet the costs of this petition. the petition was supported by the affidavit of the petitioner. in the respondents’ answer to the petition, which was supported by the affidavit of the secretary of the law council, ms margaret apinyi, the respondents denied all the allegations and contended that: the petition was not sustainable as against the 1st and 2nd respondents who are neither legal entities nor bodies corporate capable of being sued; the petition does not raise any issues for constitutional interpretation. at the hearing of this petition, learned counsel arthur katongole appeared for the petitioner, while the learned principal state attorney (psa), mr. geoffrey atwiine, represented the respondents. submissions of the petitioner counsel katongole submitted that the ruling and act of striking the petitioner from the roll of advocates were done in a manner which was unlawful and unconstitutional in that the petitioner’s right to be heard as guaranteed by the constitution was breached, the ruling was not signed by the chairperson of the law council as required by s.36 of the advocates act, no final report was forwarded to the chief registrar as prescribed by s.21 of the advocates act and the order was not gazetted as required by s.20 of the advocates act. as a result, the petitioner has been denied his right to practice his profession for now about 12 years. counsel prayed that this court does find the procedure and decision of the disciplinary committee to be unconstitutional. submissions of the respondents mr. atwiine submitted that the petition against the 1st and 2nd respondents ought to be struck out as the chief registrar of the courts of judicature and the secretary of law council cannot be sued in their individual capacities. that as public bodies and persons, it is the attorney general who is their legal representative as provided for under article 119 (3) of the constitution. for this submission counsel referred to the case of gordon sentiba and 2 others vs. igg, supreme court civil appeal no. 6 of 2018. counsel further submitted that this court has no jurisdiction to entertain the petition as it did not raise any issue for constitutional interpretation as provided for under article 137 which confers jurisdiction on this court. that the petition only raised matters of violation of his right to practice his profession as guaranteed under article 40, contravention of his right to a fair hearing as guaranteed under article 28, and violation of his right to fair treatment before the law council guaranteed under article 42. counsel contended that none of the above matters required constitutional interpretation and ought to be brought before a “competent court” under article 50 of the constitution and not the constitutional court. for this submission, counsel referred to the authority of the attorney general vs. gen. tinyefuza constitutional appeal no. 1 of 1997 and ismail seruqo vs. kcc and attorney general constitutional appeal no. 2 of 1998. counsel concluded that for those reasons, this petition was wrongly before this court and ought to be dismissed with costs. petitioner’s rejoinder in rejoinder, counsel katongole submitted that the “acts” and “omissions” complained about in the petition are covered under the provisions of article 137(3)(b) and that the petition was properly before this court. consideration by court we shall first deal with the two preliminary points of law raised by the respondent. whether the chief registrar of the courts of judicature and the secretary of the law council are proper respondents in this matter. “legal personality” or “corporate legal entity” is a creature of statute. it is only after non-biological person(s) or bodies have been conferred with legal personality that they become competent to be joined as respondents in constitutional petitions commenced in this court. article 145 of the constitution of the republic of uganda creates the office of the chief registrar in the judiciary and provides for the appointment of the holder of the office by the president on the advice of the judicial service commission. no corporate legal personality is conferred upon that office by the constitution or any other law. the advocates act, cap. 267 assigns specific duties to the chief registrar in respect of the enrolment and practice of advocates in uganda which include 125 entering onto the roll of advocates the names of persons found eligible by the law council (s.7), issuing practicing certificates to qualifying advocates (s.11), receiving and taking action on the findings and orders of the disciplinary committee established under the advocates act (s.21), and receiving the prescribed appeal documents filed by an advocate aggrieved by any order of the 130 disciplinary committee (s.22). if an advocate is aggrieved by the performance or non-performance of the said statutory duties by the chief registrar, it does not attract personal liability on the part of the chief registrar nor confer corporate personality on that office to be made a party to proceedings before this court. furthermore, the chief registrar cannot be sued in exercise of his/her functions 135 as such. as a judicial officer, he/she is protected by section 46 of the judicature act which provides as follows: 46. protection of judicial officers. a judge or commission or other person acting judicially shall not be liable to be sued in any civil court for any act done or ordered to be done by that person in the discharge of his or her judicial functions whether or not within the limits of his or her jurisdiction. an officer of the court or other person bonded to execute any order or warrant of any judge or person referred to in subsection (1) acting judicially, shall not be liable to be sued in any civil court in respect of any lawful or authorised act done in the execution of any such order or warrant. likewise, the office of the secretary of the law council is a public office created by section 5 of the advocates act, cap. 267 to facilitate the law council and the disciplinary committee in the discharge of their respective mandates under the iso act. nowhere does the advocates act confer corporate legal personality to the office of the secretary of the law council or otherwise give a right to a person aggrieved by the secretary’s acts or omissions to make him/her a respondent in a petition before this court. instead, section 39 of the advocates act provides for immunity of the disciplinary committee. suits against the members are prohibited by the same provision. in the premises, we agree with the submissions of the respondents that the petition against the chief registrar and the secretary of the law council is misconceived. accordingly, it is hereby struck out thereby leaving the attorney general as the sole respondent to the petition. whether the constitutional court has original jurisdiction over the subject matter of the petition. it was the attorney general’s contention that this court has no jurisdiction to entertain the petition as it does not raise any issue for constitutional interpretation as provided for under article 137. mr. atwine, counsel for the respondent, submitted that the complaints raised in the petition relate to violation of rights which call for enforcement under article 50 of the constitution and not interpretation of the constitution. he prayed that the petition be dismissed with costs for being incompetent. learned counsel arthur katongole did not agree. he submitted that the complaints raised in the petition fall within the ambit of the “acts” and “omissions” on the part of the respondents which this court is enjoined to entertain pursuant to article 137 (3)(b) of the constitution. as far as is relevant to the instant matter, the jurisdiction of the constitutional court is set out in article 137 of the constitution thus - any question as to the interpretation of this constitution shall be determined by the court of appeal sitting as the constitutional court. ... (not relevant). a person who alleges that- (a) ... (not relevant); (b) any act or omission by any person or authority is inconsistent with or in contravention of a provision of this constitution, may petition the constitutionai court for a declaration to that effect, and for redress where appropriate. where upon determination of the petition under clause (3) of this article the constitutional court considers that there is need for redress in addition to the declaration sought, the constitutional court may- fa) grant an order of redress; or (b) refer the matter to the high court to investigate and determine the appropriate redress. the scope of the jurisdiction of this court has been the subject of numerous judicial decisions of this court and the supreme court. what stands out in all of them is that for this court to have jurisdiction over any complaint brought before it, interpretation of a provision of the constitution must be necessary in the resolution the of the said complaint. see attorney general vs major general david tinyenfuza, supreme court constitutional appeal no. 1 of 1997, ismail seruqo vs kampala city council & another constitutional appeal no. 2 of 1998, mbabaali jude vs hon. edward kiwanuka ssekandi constitutional petition no. 0028 of 2012, herman semujiu vs attorney general constitutional petition no. 1 of. 1998, charles kabaqambe vs uganda electricity board constitutional petition no. 2 of 1999 and paul ssemwogerere and 2 others vs attorney general constitutional petition no. of 2002, engineer edward turyomuruqyendo & others ys attorney general & others constitutional petition no. 25 of 2009. wambuzi, c.j. stated it succinctly in attorney general vs major general david tinyenfuza, supreme court constitutional appeal no. 1 of 1997 thus: - “in my view, jurisdiction of the constitutional court is limited in article 137 (1) of the constitution to interpretation of the constitution. put in a different way, no other jurisdiction apart from interpretation of the constitution is given. in these circumstances i would hold that unless the question before the constitutional court depends for its determination on the interpretation or construction of a provision of the constitution, the constitutional court has no jurisdiction.” (emphasis added). in order to determine whether this court has jurisdiction over the complaints set out in the petition in the instant matter, the criteria set by wambuzi c.j with the concurrence of the rest of the court in ismail seruqo vs kampala city council & another constitutional appeal no. 2 of 1998, becomes very instructive. he stated thus:- \"... for the constitutional court to have jurisdiction the petition must show, on the face of it, that interpretation of a provision of the constitution is required. it is not enough to allege merely that a constitutional provision has been violated. if therefore rights have been violated as claimed, these are enforceable under article 50 of the constitution by another competent court...” the petition before us contains alleged breaches of the constitutional rights of the petitioner by the law council in the process of carrying out disciplinary proceedings against the petitioner and the resultant refusal by the chief registrar of the courts of judicature to issue him with the practicing certificate namely: the right to practice his profession as an advocate ( article 40(2) of the constitution), the right to a fair hearing ( article 28(1) and 43 of the constitution) and the right to fair treatment (article 42 of the constitution). the question that arises is whether the said complaints are sufficient to bring the petition within the scope of article 137 (1) & (3) the constitution which confer jurisdiction upon this court? the petitioner’s counsel submitted that the complaints raised fall within the ambit of the “acts” and “omissions” which this court is enjoined to entertain pursuant to article 137 (3)(b) of the constitution. we disagree. whereas it is true that the complaints set out in the petition amount to allegations of contravention of certain provisions of the constitution, in our humble opinion, they do not require any constitutional interpretation. article 137 (3) (b) must be read together with article 137 (1) of the constitution in order to understand its full import. those ‘acts’ and ‘omissions’ must raise a question for constitutional interpretation that ought to arise in considering the declaration sought. there must be a controversy as to whether or not the said ‘acts’ and ‘omissions’ are constitutionally permissible or not either on account of the limitation clause, or some other law. this court and the supreme court have consistently held that not every breach of the constitution requires interpretation of the constitution. in ismail serugo vs kampala city council & another, constitutional appeal no. 2 of 1998, mulenga jsc stated thus:- \"... a person who seeks to enforce a right or freedom guaranteed under the constitution, by claiming redress for its infringement or threatened infringement, but whose claim does not call for interpretation of the constitution, has to apply to any other competent court. the constitutional court is competent for that purpose only upon determination of a petition under article 137(3)...” in the instant matter it is clear to us that what the petitioner is seeking from this court is not the interpretation of any provision of the constitution, but redress for the alleged infringement of his constitutional rights by the law council in the process of carrying out the disciplinary proceedings against him, and the striking of his name off the roll of advocates contrary to the advocates act. he ought to have pursued the appropriate remedies under article 50 of the constitution in an action for enforcement of rights. he could also have applied for judicial review of the decision of the law council for not complying with the law and raised the procedural impropriety he sets out. alternatively, he could have appealed the impugned decision to the high court pursuant to section 22 of the advocates act. indeed, the substance of this petition is a disguised appeal and this court has no jurisdiction to entertain it. we accordingly strike it out with costs to the attorney general. \\xa0 signed and delivered at kampala this 22nd day of february 2021 \\xa0 \\xa0 \\xa0 \\xa0 \\xa0 \\xa0 fredrick egonda ntende \\xa0 justice of the constitutional court \\xa0 \\xa0 \\xa0 elizabeth musoke \\xa0 justice of the constitutional court \\xa0 barishaki cheborion \\xa0 justice of the constitutional court \\xa0 kibeedi muzamiru muangula \\xa0 justice of the constitutional court \\xa0 irene mulyagonja \\xa0 justice of the constitutional court \\xa0\\xa0 \\xa0 \\xa0 \\xa0 \\xa0 \\xa0 \\xa0 \\xa0 \\xa0 \\xa0 \\xa0 \\xa0 \\xa0 \\xa0 \\xa0'"
      ]
     },
     "execution_count": 6,
     "metadata": {},
     "output_type": "execute_result"
    }
   ],
   "source": [
    "case_text = df['case_judgement_text'].iloc[0].lower()\n",
    "case_text"
   ]
  },
  {
   "cell_type": "markdown",
   "id": "41857d16-eab9-4a1b-8e28-f67b860d3b9d",
   "metadata": {
    "tags": []
   },
   "source": [
    "## Assissing \n",
    "- Text cleaning\n",
    "- Word-frequency table\n",
    "- Summarization"
   ]
  },
  {
   "cell_type": "code",
   "execution_count": 7,
   "id": "eca90bb1-dd5b-427e-b98a-4acc0d5a15c0",
   "metadata": {
    "tags": []
   },
   "outputs": [],
   "source": [
    "import spacy\n",
    "from spacy.lang.en.stop_words import STOP_WORDS\n",
    "from string import punctuation"
   ]
  },
  {
   "cell_type": "code",
   "execution_count": 8,
   "id": "d2bfc5dd-59bb-4988-9763-92cf2ea651d8",
   "metadata": {},
   "outputs": [],
   "source": [
    "stopwords = list(STOP_WORDS)\n",
    "nlp = spacy.load('en_core_web_sm')\n",
    "doc = nlp(case_text)"
   ]
  },
  {
   "cell_type": "code",
   "execution_count": 9,
   "id": "e6e02a8d-e8e5-4eb1-b513-107e59a44a70",
   "metadata": {},
   "outputs": [
    {
     "name": "stdout",
     "output_type": "stream",
     "text": [
      "['the', 'republic', 'of', 'uganda', 'in', 'the', 'constitutional', 'court', 'of', 'uganda', 'at', 'kampala', '(', 'coram', ':', 'egonda', '-', 'ntende', ',', 'elizabeth', 'musoke', ',', 'barishaki', 'cheborion', ',', 'muzamiru', 'kibeedi', '&', 'irene', 'mulyagonja', ',', 'jjcc', ')', 'constitutional', 'petition', 'no', '.', '32', 'of', '2014', 'between', 'alenyo', 'george', 'william', ':', ':', ':', ':', ':', ':', ':', ':', ':', ':', ':', ':', ':', ':', ':', ':', ':', ':', ':', ':', ':', ':', ':', ':', ':', ':', ':', ':', ':', ':', ':', ':', ':', ':', ':', ':', ':', ':', ':', ':', ':', ':', ':', ':', ':', ':', ':', ':', ':', 'petitioner', ',', 'versus', 'the', 'chief', 'registrar', ',', 'courts', 'of', 'judicature', ']', 'the', 'secretary', 'law', 'council', '\\xa0\\xa0\\xa0\\xa0\\xa0\\xa0\\xa0\\xa0\\xa0\\xa0\\xa0\\xa0\\xa0\\xa0\\xa0\\xa0\\xa0\\xa0\\xa0\\xa0\\xa0\\xa0\\xa0\\xa0\\xa0\\xa0\\xa0\\xa0\\xa0\\xa0\\xa0\\xa0 ', ']', 'attorney', 'general', '\\xa0\\xa0\\xa0\\xa0\\xa0\\xa0\\xa0\\xa0\\xa0\\xa0\\xa0\\xa0\\xa0\\xa0\\xa0\\xa0\\xa0\\xa0\\xa0\\xa0\\xa0\\xa0\\xa0\\xa0\\xa0\\xa0\\xa0\\xa0\\xa0\\xa0\\xa0\\xa0 ', '*', '\\xa0\\xa0\\xa0\\xa0\\xa0\\xa0\\xa0\\xa0\\xa0\\xa0\\xa0\\xa0\\xa0\\xa0\\xa0\\xa0\\xa0\\xa0\\xa0\\xa0\\xa0\\xa0\\xa0 ', 'respondents', 'judgment', 'of', 'the', 'court', 'the', 'petitioner', 'was', 'enrolled', 'as', 'an', 'advocate', 'of', 'the', 'courts', 'of', 'judicature', 'of', 'uganda', 'in', '1994', '.', 'but', 'his', 'practice', 'as', 'an', 'advocate', 'appears', 'to', 'have', 'been', 'bedevilled', 'by', 'many', 'complaints', 'of', 'professional', 'misconduct', 'that', 'were', 'filed', 'against', 'him', 'before', 'the', 'law', 'council', '.', 'in', 'the', 'proceedings', 'of', 'the', 'disciplinary', 'committee', 'of', 'the', 'law', 'council', 'held', 'on', '26.08.2005', ',', '19', 'complaints', 'against', 'him', 'were', 'cause', 'listed', 'for', 'hearing', 'on', 'that', 'single', 'day', '.', 'the', 'said', 'complaints', 'included', 'one', 'which', 'had', 'been', 'filed', 'by', 'the', 'then', 'chief', 'magistrate', 'of', 'gulu', ',', 'his', 'worship', 'silver', 'cohens', 'okullo', '(', 'rip', ')', 'to', 'the', 'effect', 'that', 'he', '(', 'the', 'chief', 'magistrate', ')', 'had', 'been', 'physically', 'assaulted', 'by', 'the', 'petitioner', 'on', '23rd', 'march', '2004', 'within', 'the', 'premises', 'of', 'gulu', 'court', ',', 'vide', 'lcd', '58/2004', '.', 'the', 'disciplinary', 'committee', 'found', 'the', 'petitioner', 'guilty', 'of', 'professional', 'misconduct', 'in', 'lcd', '58/2004', 'and', 'ordered', ',', 'inter', 'alia', 'that', 'the', 'petitioner', '“', 'be', 'and', 'is', 'hereby', 'struck', 'off', 'the', 'roll', 'of', 'advocates', 'with', 'effect', 'from', 'the', 'date', 'of', 'this', 'ruling', '[', '18.09.2009/.', 'as', 'a', 'consequence', ',', 'the', 'chief', 'registrar', 'of', 'the', 'courts', 'of', 'judicature', 'denied', 'the', 'petitioner', 'a', 'practicing', 'certificate', ',', 'which', 'is', 'a', 'prerequisite', 'for', 'an', 'advocate', 'to', 'practice', 'his', '/', 'her', 'profession', 'in', 'uganda', '.', 'the', 'petitioner', 'brought', 'this', 'petition', 'under', 'article', '137(3', ')', 'of', 'the', '1995', 'constitution', 'of', 'uganda', 'alleging', 'that', ':', '“', 'the', 'denial', 'by', 'the', 'chief', 'registrar', 'of', 'the', 'courts', 'of', 'judicature', 'to', 'issue', 'him', 'a', 'practicing', 'certificate', 'is', 'inconsistent', 'with', 'and', 'contravenes', 'his', 'right', 'to', 'practice', 'his', 'profession', 'as', 'guaranteed', 'by', 'article', '40(2', ')', 'of', 'the', 'constitution', '.', 'the', 'purported', 'hearing', 'of', 'a', 'complaint', 'against', 'him', 'by', 'the', 'law', 'council', 'without', 'keeping', 'him', 'informed', 'or', 'notified', 'of', 'the', 'proceedings', 'contravened', 'his', 'right', 'to', 'a', 'fair', 'hearing', 'as', 'guaranteed', 'by', 'article', '28(1', ')', 'of', 'the', 'constitution', 'and', 'article', '43', 'of', 'the', 'constitution', '.', 'the', 'purported', 'reliance', 'on', 'the', 'proceedings', 'of', 'the', 'law', 'council', 'of', '2009', 'by', 'the', 'chief', 'registrar', ',', 'which', 'proceedings', 'and', 'rulings', 'contravened', 'section', '36', 'of', 'the', 'advocates', 'act', ',', 'did', 'negate', 'the', 'petitioner', '’s', 'right', 'to', 'fair', 'treatment', 'before', 'the', 'law', 'council', 'as', 'guaranteed', 'by', 'article', '42', 'of', 'the', 'constitution', '.', 'the', 'denial', 'of', 'his', 'right', 'to', 'practice', 'while', 'he', 'lawfully', 'remains', 'on', 'the', 'roll', 'of', 'advocates', 'and', 'while', 'he', 'has', 'never', 'been', 'lawfully', 'struck', 'off', 'the', 'roll', 'as', 'provided', 'by', 'the', 'advocates', 'act', 'breaches', 'his', 'right', 'to', 'practice', 'his', 'profession', '.', '”', 'the', 'petitioner', 'prayed', 'for', 'the', 'following', 'declarations', ':', '/.', '“', 'that', 'the', 'proceedings', 'of', 'the', 'law', 'council', 'of', '2009', 'if', 'at', 'all', 'they', 'took', 'place', '(', 'which', 'is', 'denied', ')', 'was', 'a', 'nullity', 'for', 'not', 'affording', 'the', 'petitioner', 'a', 'hearing', 'and', 'hence', 'inconsistent', 'with', 'the', 'constitution', '.', 'ii', '.', 'that', 'the', 'purported', 'striking', 'of', 'the', 'petitioner', 'off', 'the', 'roll', 'of', 'advocates', 'never', 'lawfully', 'occurred', 'and', 'the', 'petitioner', 'remains', 'on', 'the', 'roll', 'of', 'advocates', 'and', 'the', 'unlawful', 'striking', 'off', ',', 'if', 'at', 'all', ',', 'was', 'unconstitutional', 'and', 'in', 'contravention', 'of', 'the', 'constitution', '.', 'hi', '.', 'that', 'the', 'petitioner', 'be', 'afforded', 'his', 'right', 'to', 'practice', 'as', 'an', 'advocate', '.', 'iv', '.', 'that', 'the', 'respondents', 'meet', 'the', 'costs', 'of', 'this', 'petition', '.', 'the', 'petition', 'was', 'supported', 'by', 'the', 'affidavit', 'of', 'the', 'petitioner', '.', 'in', 'the', 'respondents', '’', 'answer', 'to', 'the', 'petition', ',', 'which', 'was', 'supported', 'by', 'the', 'affidavit', 'of', 'the', 'secretary', 'of', 'the', 'law', 'council', ',', 'ms', 'margaret', 'apinyi', ',', 'the', 'respondents', 'denied', 'all', 'the', 'allegations', 'and', 'contended', 'that', ':', 'the', 'petition', 'was', 'not', 'sustainable', 'as', 'against', 'the', '1st', 'and', '2nd', 'respondents', 'who', 'are', 'neither', 'legal', 'entities', 'nor', 'bodies', 'corporate', 'capable', 'of', 'being', 'sued', ';', 'the', 'petition', 'does', 'not', 'raise', 'any', 'issues', 'for', 'constitutional', 'interpretation', '.', 'at', 'the', 'hearing', 'of', 'this', 'petition', ',', 'learned', 'counsel', 'arthur', 'katongole', 'appeared', 'for', 'the', 'petitioner', ',', 'while', 'the', 'learned', 'principal', 'state', 'attorney', '(', 'psa', ')', ',', 'mr', '.', 'geoffrey', 'atwiine', ',', 'represented', 'the', 'respondents', '.', 'submissions', 'of', 'the', 'petitioner', 'counsel', 'katongole', 'submitted', 'that', 'the', 'ruling', 'and', 'act', 'of', 'striking', 'the', 'petitioner', 'from', 'the', 'roll', 'of', 'advocates', 'were', 'done', 'in', 'a', 'manner', 'which', 'was', 'unlawful', 'and', 'unconstitutional', 'in', 'that', 'the', 'petitioner', '’s', 'right', 'to', 'be', 'heard', 'as', 'guaranteed', 'by', 'the', 'constitution', 'was', 'breached', ',', 'the', 'ruling', 'was', 'not', 'signed', 'by', 'the', 'chairperson', 'of', 'the', 'law', 'council', 'as', 'required', 'by', 's.36', 'of', 'the', 'advocates', 'act', ',', 'no', 'final', 'report', 'was', 'forwarded', 'to', 'the', 'chief', 'registrar', 'as', 'prescribed', 'by', 's.21', 'of', 'the', 'advocates', 'act', 'and', 'the', 'order', 'was', 'not', 'gazetted', 'as', 'required', 'by', 's.20', 'of', 'the', 'advocates', 'act', '.', 'as', 'a', 'result', ',', 'the', 'petitioner', 'has', 'been', 'denied', 'his', 'right', 'to', 'practice', 'his', 'profession', 'for', 'now', 'about', '12', 'years', '.', 'counsel', 'prayed', 'that', 'this', 'court', 'does', 'find', 'the', 'procedure', 'and', 'decision', 'of', 'the', 'disciplinary', 'committee', 'to', 'be', 'unconstitutional', '.', 'submissions', 'of', 'the', 'respondents', 'mr', '.', 'atwiine', 'submitted', 'that', 'the', 'petition', 'against', 'the', '1st', 'and', '2nd', 'respondents', 'ought', 'to', 'be', 'struck', 'out', 'as', 'the', 'chief', 'registrar', 'of', 'the', 'courts', 'of', 'judicature', 'and', 'the', 'secretary', 'of', 'law', 'council', 'can', 'not', 'be', 'sued', 'in', 'their', 'individual', 'capacities', '.', 'that', 'as', 'public', 'bodies', 'and', 'persons', ',', 'it', 'is', 'the', 'attorney', 'general', 'who', 'is', 'their', 'legal', 'representative', 'as', 'provided', 'for', 'under', 'article', '119', '(', '3', ')', 'of', 'the', 'constitution', '.', 'for', 'this', 'submission', 'counsel', 'referred', 'to', 'the', 'case', 'of', 'gordon', 'sentiba', 'and', '2', 'others', 'vs.', 'igg', ',', 'supreme', 'court', 'civil', 'appeal', 'no', '.', '6', 'of', '2018', '.', 'counsel', 'further', 'submitted', 'that', 'this', 'court', 'has', 'no', 'jurisdiction', 'to', 'entertain', 'the', 'petition', 'as', 'it', 'did', 'not', 'raise', 'any', 'issue', 'for', 'constitutional', 'interpretation', 'as', 'provided', 'for', 'under', 'article', '137', 'which', 'confers', 'jurisdiction', 'on', 'this', 'court', '.', 'that', 'the', 'petition', 'only', 'raised', 'matters', 'of', 'violation', 'of', 'his', 'right', 'to', 'practice', 'his', 'profession', 'as', 'guaranteed', 'under', 'article', '40', ',', 'contravention', 'of', 'his', 'right', 'to', 'a', 'fair', 'hearing', 'as', 'guaranteed', 'under', 'article', '28', ',', 'and', 'violation', 'of', 'his', 'right', 'to', 'fair', 'treatment', 'before', 'the', 'law', 'council', 'guaranteed', 'under', 'article', '42', '.', 'counsel', 'contended', 'that', 'none', 'of', 'the', 'above', 'matters', 'required', 'constitutional', 'interpretation', 'and', 'ought', 'to', 'be', 'brought', 'before', 'a', '“', 'competent', 'court', '”', 'under', 'article', '50', 'of', 'the', 'constitution', 'and', 'not', 'the', 'constitutional', 'court', '.', 'for', 'this', 'submission', ',', 'counsel', 'referred', 'to', 'the', 'authority', 'of', 'the', 'attorney', 'general', 'vs.', 'gen', '.', 'tinyefuza', 'constitutional', 'appeal', 'no', '.', '1', 'of', '1997', 'and', 'ismail', 'seruqo', 'vs.', 'kcc', 'and', 'attorney', 'general', 'constitutional', 'appeal', 'no', '.', '2', 'of', '1998', '.', 'counsel', 'concluded', 'that', 'for', 'those', 'reasons', ',', 'this', 'petition', 'was', 'wrongly', 'before', 'this', 'court', 'and', 'ought', 'to', 'be', 'dismissed', 'with', 'costs', '.', 'petitioner', '’s', 'rejoinder', 'in', 'rejoinder', ',', 'counsel', 'katongole', 'submitted', 'that', 'the', '“', 'acts', '”', 'and', '“', 'omissions', '”', 'complained', 'about', 'in', 'the', 'petition', 'are', 'covered', 'under', 'the', 'provisions', 'of', 'article', '137(3)(b', ')', 'and', 'that', 'the', 'petition', 'was', 'properly', 'before', 'this', 'court', '.', 'consideration', 'by', 'court', 'we', 'shall', 'first', 'deal', 'with', 'the', 'two', 'preliminary', 'points', 'of', 'law', 'raised', 'by', 'the', 'respondent', '.', 'whether', 'the', 'chief', 'registrar', 'of', 'the', 'courts', 'of', 'judicature', 'and', 'the', 'secretary', 'of', 'the', 'law', 'council', 'are', 'proper', 'respondents', 'in', 'this', 'matter', '.', '“', 'legal', 'personality', '”', 'or', '“', 'corporate', 'legal', 'entity', '”', 'is', 'a', 'creature', 'of', 'statute', '.', 'it', 'is', 'only', 'after', 'non', '-', 'biological', 'person(s', ')', 'or', 'bodies', 'have', 'been', 'conferred', 'with', 'legal', 'personality', 'that', 'they', 'become', 'competent', 'to', 'be', 'joined', 'as', 'respondents', 'in', 'constitutional', 'petitions', 'commenced', 'in', 'this', 'court', '.', 'article', '145', 'of', 'the', 'constitution', 'of', 'the', 'republic', 'of', 'uganda', 'creates', 'the', 'office', 'of', 'the', 'chief', 'registrar', 'in', 'the', 'judiciary', 'and', 'provides', 'for', 'the', 'appointment', 'of', 'the', 'holder', 'of', 'the', 'office', 'by', 'the', 'president', 'on', 'the', 'advice', 'of', 'the', 'judicial', 'service', 'commission', '.', 'no', 'corporate', 'legal', 'personality', 'is', 'conferred', 'upon', 'that', 'office', 'by', 'the', 'constitution', 'or', 'any', 'other', 'law', '.', 'the', 'advocates', 'act', ',', 'cap', '.', '267', 'assigns', 'specific', 'duties', 'to', 'the', 'chief', 'registrar', 'in', 'respect', 'of', 'the', 'enrolment', 'and', 'practice', 'of', 'advocates', 'in', 'uganda', 'which', 'include', '125', 'entering', 'onto', 'the', 'roll', 'of', 'advocates', 'the', 'names', 'of', 'persons', 'found', 'eligible', 'by', 'the', 'law', 'council', '(', 's.7', ')', ',', 'issuing', 'practicing', 'certificates', 'to', 'qualifying', 'advocates', '(', 's.11', ')', ',', 'receiving', 'and', 'taking', 'action', 'on', 'the', 'findings', 'and', 'orders', 'of', 'the', 'disciplinary', 'committee', 'established', 'under', 'the', 'advocates', 'act', '(', 's.21', ')', ',', 'and', 'receiving', 'the', 'prescribed', 'appeal', 'documents', 'filed', 'by', 'an', 'advocate', 'aggrieved', 'by', 'any', 'order', 'of', 'the', '130', 'disciplinary', 'committee', '(', 's.22', ')', '.', 'if', 'an', 'advocate', 'is', 'aggrieved', 'by', 'the', 'performance', 'or', 'non', '-', 'performance', 'of', 'the', 'said', 'statutory', 'duties', 'by', 'the', 'chief', 'registrar', ',', 'it', 'does', 'not', 'attract', 'personal', 'liability', 'on', 'the', 'part', 'of', 'the', 'chief', 'registrar', 'nor', 'confer', 'corporate', 'personality', 'on', 'that', 'office', 'to', 'be', 'made', 'a', 'party', 'to', 'proceedings', 'before', 'this', 'court', '.', 'furthermore', ',', 'the', 'chief', 'registrar', 'can', 'not', 'be', 'sued', 'in', 'exercise', 'of', 'his', '/', 'her', 'functions', '135', 'as', 'such', '.', 'as', 'a', 'judicial', 'officer', ',', 'he', '/', 'she', 'is', 'protected', 'by', 'section', '46', 'of', 'the', 'judicature', 'act', 'which', 'provides', 'as', 'follows', ':', '46', '.', 'protection', 'of', 'judicial', 'officers', '.', 'a', 'judge', 'or', 'commission', 'or', 'other', 'person', 'acting', 'judicially', 'shall', 'not', 'be', 'liable', 'to', 'be', 'sued', 'in', 'any', 'civil', 'court', 'for', 'any', 'act', 'done', 'or', 'ordered', 'to', 'be', 'done', 'by', 'that', 'person', 'in', 'the', 'discharge', 'of', 'his', 'or', 'her', 'judicial', 'functions', 'whether', 'or', 'not', 'within', 'the', 'limits', 'of', 'his', 'or', 'her', 'jurisdiction', '.', 'an', 'officer', 'of', 'the', 'court', 'or', 'other', 'person', 'bonded', 'to', 'execute', 'any', 'order', 'or', 'warrant', 'of', 'any', 'judge', 'or', 'person', 'referred', 'to', 'in', 'subsection', '(', '1', ')', 'acting', 'judicially', ',', 'shall', 'not', 'be', 'liable', 'to', 'be', 'sued', 'in', 'any', 'civil', 'court', 'in', 'respect', 'of', 'any', 'lawful', 'or', 'authorised', 'act', 'done', 'in', 'the', 'execution', 'of', 'any', 'such', 'order', 'or', 'warrant', '.', 'likewise', ',', 'the', 'office', 'of', 'the', 'secretary', 'of', 'the', 'law', 'council', 'is', 'a', 'public', 'office', 'created', 'by', 'section', '5', 'of', 'the', 'advocates', 'act', ',', 'cap', '.', '267', 'to', 'facilitate', 'the', 'law', 'council', 'and', 'the', 'disciplinary', 'committee', 'in', 'the', 'discharge', 'of', 'their', 'respective', 'mandates', 'under', 'the', 'iso', 'act', '.', 'nowhere', 'does', 'the', 'advocates', 'act', 'confer', 'corporate', 'legal', 'personality', 'to', 'the', 'office', 'of', 'the', 'secretary', 'of', 'the', 'law', 'council', 'or', 'otherwise', 'give', 'a', 'right', 'to', 'a', 'person', 'aggrieved', 'by', 'the', 'secretary', '’s', 'acts', 'or', 'omissions', 'to', 'make', 'him', '/', 'her', 'a', 'respondent', 'in', 'a', 'petition', 'before', 'this', 'court', '.', 'instead', ',', 'section', '39', 'of', 'the', 'advocates', 'act', 'provides', 'for', 'immunity', 'of', 'the', 'disciplinary', 'committee', '.', 'suits', 'against', 'the', 'members', 'are', 'prohibited', 'by', 'the', 'same', 'provision', '.', 'in', 'the', 'premises', ',', 'we', 'agree', 'with', 'the', 'submissions', 'of', 'the', 'respondents', 'that', 'the', 'petition', 'against', 'the', 'chief', 'registrar', 'and', 'the', 'secretary', 'of', 'the', 'law', 'council', 'is', 'misconceived', '.', 'accordingly', ',', 'it', 'is', 'hereby', 'struck', 'out', 'thereby', 'leaving', 'the', 'attorney', 'general', 'as', 'the', 'sole', 'respondent', 'to', 'the', 'petition', '.', 'whether', 'the', 'constitutional', 'court', 'has', 'original', 'jurisdiction', 'over', 'the', 'subject', 'matter', 'of', 'the', 'petition', '.', 'it', 'was', 'the', 'attorney', 'general', '’s', 'contention', 'that', 'this', 'court', 'has', 'no', 'jurisdiction', 'to', 'entertain', 'the', 'petition', 'as', 'it', 'does', 'not', 'raise', 'any', 'issue', 'for', 'constitutional', 'interpretation', 'as', 'provided', 'for', 'under', 'article', '137', '.', 'mr', '.', 'atwine', ',', 'counsel', 'for', 'the', 'respondent', ',', 'submitted', 'that', 'the', 'complaints', 'raised', 'in', 'the', 'petition', 'relate', 'to', 'violation', 'of', 'rights', 'which', 'call', 'for', 'enforcement', 'under', 'article', '50', 'of', 'the', 'constitution', 'and', 'not', 'interpretation', 'of', 'the', 'constitution', '.', 'he', 'prayed', 'that', 'the', 'petition', 'be', 'dismissed', 'with', 'costs', 'for', 'being', 'incompetent', '.', 'learned', 'counsel', 'arthur', 'katongole', 'did', 'not', 'agree', '.', 'he', 'submitted', 'that', 'the', 'complaints', 'raised', 'in', 'the', 'petition', 'fall', 'within', 'the', 'ambit', 'of', 'the', '“', 'acts', '”', 'and', '“', 'omissions', '”', 'on', 'the', 'part', 'of', 'the', 'respondents', 'which', 'this', 'court', 'is', 'enjoined', 'to', 'entertain', 'pursuant', 'to', 'article', '137', '(', '3)(b', ')', 'of', 'the', 'constitution', '.', 'as', 'far', 'as', 'is', 'relevant', 'to', 'the', 'instant', 'matter', ',', 'the', 'jurisdiction', 'of', 'the', 'constitutional', 'court', 'is', 'set', 'out', 'in', 'article', '137', 'of', 'the', 'constitution', 'thus', '-', 'any', 'question', 'as', 'to', 'the', 'interpretation', 'of', 'this', 'constitution', 'shall', 'be', 'determined', 'by', 'the', 'court', 'of', 'appeal', 'sitting', 'as', 'the', 'constitutional', 'court', '.', '...', '(', 'not', 'relevant', ')', '.', 'a', 'person', 'who', 'alleges', 'that-', '(', 'a', ')', '...', '(', 'not', 'relevant', ')', ';', '(', 'b', ')', 'any', 'act', 'or', 'omission', 'by', 'any', 'person', 'or', 'authority', 'is', 'inconsistent', 'with', 'or', 'in', 'contravention', 'of', 'a', 'provision', 'of', 'this', 'constitution', ',', 'may', 'petition', 'the', 'constitutionai', 'court', 'for', 'a', 'declaration', 'to', 'that', 'effect', ',', 'and', 'for', 'redress', 'where', 'appropriate', '.', 'where', 'upon', 'determination', 'of', 'the', 'petition', 'under', 'clause', '(', '3', ')', 'of', 'this', 'article', 'the', 'constitutional', 'court', 'considers', 'that', 'there', 'is', 'need', 'for', 'redress', 'in', 'addition', 'to', 'the', 'declaration', 'sought', ',', 'the', 'constitutional', 'court', 'may-', 'fa', ')', 'grant', 'an', 'order', 'of', 'redress', ';', 'or', '(', 'b', ')', 'refer', 'the', 'matter', 'to', 'the', 'high', 'court', 'to', 'investigate', 'and', 'determine', 'the', 'appropriate', 'redress', '.', 'the', 'scope', 'of', 'the', 'jurisdiction', 'of', 'this', 'court', 'has', 'been', 'the', 'subject', 'of', 'numerous', 'judicial', 'decisions', 'of', 'this', 'court', 'and', 'the', 'supreme', 'court', '.', 'what', 'stands', 'out', 'in', 'all', 'of', 'them', 'is', 'that', 'for', 'this', 'court', 'to', 'have', 'jurisdiction', 'over', 'any', 'complaint', 'brought', 'before', 'it', ',', 'interpretation', 'of', 'a', 'provision', 'of', 'the', 'constitution', 'must', 'be', 'necessary', 'in', 'the', 'resolution', 'the', 'of', 'the', 'said', 'complaint', '.', 'see', 'attorney', 'general', 'vs', 'major', 'general', 'david', 'tinyenfuza', ',', 'supreme', 'court', 'constitutional', 'appeal', 'no', '.', '1', 'of', '1997', ',', 'ismail', 'seruqo', 'vs', 'kampala', 'city', 'council', '&', 'another', 'constitutional', 'appeal', 'no', '.', '2', 'of', '1998', ',', 'mbabaali', 'jude', 'vs', 'hon', '.', 'edward', 'kiwanuka', 'ssekandi', 'constitutional', 'petition', 'no', '.', '0028', 'of', '2012', ',', 'herman', 'semujiu', 'vs', 'attorney', 'general', 'constitutional', 'petition', 'no', '.', '1', 'of', '.', '1998', ',', 'charles', 'kabaqambe', 'vs', 'uganda', 'electricity', 'board', 'constitutional', 'petition', 'no', '.', '2', 'of', '1999', 'and', 'paul', 'ssemwogerere', 'and', '2', 'others', 'vs', 'attorney', 'general', 'constitutional', 'petition', 'no', '.', 'of', '2002', ',', 'engineer', 'edward', 'turyomuruqyendo', '&', 'others', 'ys', 'attorney', 'general', '&', 'others', 'constitutional', 'petition', 'no', '.', '25', 'of', '2009', '.', 'wambuzi', ',', 'c.j', '.', 'stated', 'it', 'succinctly', 'in', 'attorney', 'general', 'vs', 'major', 'general', 'david', 'tinyenfuza', ',', 'supreme', 'court', 'constitutional', 'appeal', 'no', '.', '1', 'of', '1997', 'thus', ':', '-', '“', 'in', 'my', 'view', ',', 'jurisdiction', 'of', 'the', 'constitutional', 'court', 'is', 'limited', 'in', 'article', '137', '(', '1', ')', 'of', 'the', 'constitution', 'to', 'interpretation', 'of', 'the', 'constitution', '.', 'put', 'in', 'a', 'different', 'way', ',', 'no', 'other', 'jurisdiction', 'apart', 'from', 'interpretation', 'of', 'the', 'constitution', 'is', 'given', '.', 'in', 'these', 'circumstances', 'i', 'would', 'hold', 'that', 'unless', 'the', 'question', 'before', 'the', 'constitutional', 'court', 'depends', 'for', 'its', 'determination', 'on', 'the', 'interpretation', 'or', 'construction', 'of', 'a', 'provision', 'of', 'the', 'constitution', ',', 'the', 'constitutional', 'court', 'has', 'no', 'jurisdiction', '.', '”', '(', 'emphasis', 'added', ')', '.', 'in', 'order', 'to', 'determine', 'whether', 'this', 'court', 'has', 'jurisdiction', 'over', 'the', 'complaints', 'set', 'out', 'in', 'the', 'petition', 'in', 'the', 'instant', 'matter', ',', 'the', 'criteria', 'set', 'by', 'wambuzi', 'c.j', 'with', 'the', 'concurrence', 'of', 'the', 'rest', 'of', 'the', 'court', 'in', 'ismail', 'seruqo', 'vs', 'kampala', 'city', 'council', '&', 'another', 'constitutional', 'appeal', 'no', '.', '2', 'of', '1998', ',', 'becomes', 'very', 'instructive', '.', 'he', 'stated', 'thus:-', '\"', '...', 'for', 'the', 'constitutional', 'court', 'to', 'have', 'jurisdiction', 'the', 'petition', 'must', 'show', ',', 'on', 'the', 'face', 'of', 'it', ',', 'that', 'interpretation', 'of', 'a', 'provision', 'of', 'the', 'constitution', 'is', 'required', '.', 'it', 'is', 'not', 'enough', 'to', 'allege', 'merely', 'that', 'a', 'constitutional', 'provision', 'has', 'been', 'violated', '.', 'if', 'therefore', 'rights', 'have', 'been', 'violated', 'as', 'claimed', ',', 'these', 'are', 'enforceable', 'under', 'article', '50', 'of', 'the', 'constitution', 'by', 'another', 'competent', 'court', '...', '”', 'the', 'petition', 'before', 'us', 'contains', 'alleged', 'breaches', 'of', 'the', 'constitutional', 'rights', 'of', 'the', 'petitioner', 'by', 'the', 'law', 'council', 'in', 'the', 'process', 'of', 'carrying', 'out', 'disciplinary', 'proceedings', 'against', 'the', 'petitioner', 'and', 'the', 'resultant', 'refusal', 'by', 'the', 'chief', 'registrar', 'of', 'the', 'courts', 'of', 'judicature', 'to', 'issue', 'him', 'with', 'the', 'practicing', 'certificate', 'namely', ':', 'the', 'right', 'to', 'practice', 'his', 'profession', 'as', 'an', 'advocate', '(', 'article', '40(2', ')', 'of', 'the', 'constitution', ')', ',', 'the', 'right', 'to', 'a', 'fair', 'hearing', '(', 'article', '28(1', ')', 'and', '43', 'of', 'the', 'constitution', ')', 'and', 'the', 'right', 'to', 'fair', 'treatment', '(', 'article', '42', 'of', 'the', 'constitution', ')', '.', 'the', 'question', 'that', 'arises', 'is', 'whether', 'the', 'said', 'complaints', 'are', 'sufficient', 'to', 'bring', 'the', 'petition', 'within', 'the', 'scope', 'of', 'article', '137', '(', '1', ')', '&', '(', '3', ')', 'the', 'constitution', 'which', 'confer', 'jurisdiction', 'upon', 'this', 'court', '?', 'the', 'petitioner', '’s', 'counsel', 'submitted', 'that', 'the', 'complaints', 'raised', 'fall', 'within', 'the', 'ambit', 'of', 'the', '“', 'acts', '”', 'and', '“', 'omissions', '”', 'which', 'this', 'court', 'is', 'enjoined', 'to', 'entertain', 'pursuant', 'to', 'article', '137', '(', '3)(b', ')', 'of', 'the', 'constitution', '.', 'we', 'disagree', '.', 'whereas', 'it', 'is', 'true', 'that', 'the', 'complaints', 'set', 'out', 'in', 'the', 'petition', 'amount', 'to', 'allegations', 'of', 'contravention', 'of', 'certain', 'provisions', 'of', 'the', 'constitution', ',', 'in', 'our', 'humble', 'opinion', ',', 'they', 'do', 'not', 'require', 'any', 'constitutional', 'interpretation', '.', 'article', '137', '(', '3', ')', '(', 'b', ')', 'must', 'be', 'read', 'together', 'with', 'article', '137', '(', '1', ')', 'of', 'the', 'constitution', 'in', 'order', 'to', 'understand', 'its', 'full', 'import', '.', 'those', '‘', 'acts', '’', 'and', '‘', 'omissions', '’', 'must', 'raise', 'a', 'question', 'for', 'constitutional', 'interpretation', 'that', 'ought', 'to', 'arise', 'in', 'considering', 'the', 'declaration', 'sought', '.', 'there', 'must', 'be', 'a', 'controversy', 'as', 'to', 'whether', 'or', 'not', 'the', 'said', '‘', 'acts', '’', 'and', '‘', 'omissions', '’', 'are', 'constitutionally', 'permissible', 'or', 'not', 'either', 'on', 'account', 'of', 'the', 'limitation', 'clause', ',', 'or', 'some', 'other', 'law', '.', 'this', 'court', 'and', 'the', 'supreme', 'court', 'have', 'consistently', 'held', 'that', 'not', 'every', 'breach', 'of', 'the', 'constitution', 'requires', 'interpretation', 'of', 'the', 'constitution', '.', 'in', 'ismail', 'serugo', 'vs', 'kampala', 'city', 'council', '&', 'another', ',', 'constitutional', 'appeal', 'no', '.', '2', 'of', '1998', ',', 'mulenga', 'jsc', 'stated', 'thus:-', '\"', '...', 'a', 'person', 'who', 'seeks', 'to', 'enforce', 'a', 'right', 'or', 'freedom', 'guaranteed', 'under', 'the', 'constitution', ',', 'by', 'claiming', 'redress', 'for', 'its', 'infringement', 'or', 'threatened', 'infringement', ',', 'but', 'whose', 'claim', 'does', 'not', 'call', 'for', 'interpretation', 'of', 'the', 'constitution', ',', 'has', 'to', 'apply', 'to', 'any', 'other', 'competent', 'court', '.', 'the', 'constitutional', 'court', 'is', 'competent', 'for', 'that', 'purpose', 'only', 'upon', 'determination', 'of', 'a', 'petition', 'under', 'article', '137(3', ')', '...', '”', 'in', 'the', 'instant', 'matter', 'it', 'is', 'clear', 'to', 'us', 'that', 'what', 'the', 'petitioner', 'is', 'seeking', 'from', 'this', 'court', 'is', 'not', 'the', 'interpretation', 'of', 'any', 'provision', 'of', 'the', 'constitution', ',', 'but', 'redress', 'for', 'the', 'alleged', 'infringement', 'of', 'his', 'constitutional', 'rights', 'by', 'the', 'law', 'council', 'in', 'the', 'process', 'of', 'carrying', 'out', 'the', 'disciplinary', 'proceedings', 'against', 'him', ',', 'and', 'the', 'striking', 'of', 'his', 'name', 'off', 'the', 'roll', 'of', 'advocates', 'contrary', 'to', 'the', 'advocates', 'act', '.', 'he', 'ought', 'to', 'have', 'pursued', 'the', 'appropriate', 'remedies', 'under', 'article', '50', 'of', 'the', 'constitution', 'in', 'an', 'action', 'for', 'enforcement', 'of', 'rights', '.', 'he', 'could', 'also', 'have', 'applied', 'for', 'judicial', 'review', 'of', 'the', 'decision', 'of', 'the', 'law', 'council', 'for', 'not', 'complying', 'with', 'the', 'law', 'and', 'raised', 'the', 'procedural', 'impropriety', 'he', 'sets', 'out', '.', 'alternatively', ',', 'he', 'could', 'have', 'appealed', 'the', 'impugned', 'decision', 'to', 'the', 'high', 'court', 'pursuant', 'to', 'section', '22', 'of', 'the', 'advocates', 'act', '.', 'indeed', ',', 'the', 'substance', 'of', 'this', 'petition', 'is', 'a', 'disguised', 'appeal', 'and', 'this', 'court', 'has', 'no', 'jurisdiction', 'to', 'entertain', 'it', '.', 'we', 'accordingly', 'strike', 'it', 'out', 'with', 'costs', 'to', 'the', 'attorney', 'general', '.', '\\xa0 ', 'signed', 'and', 'delivered', 'at', 'kampala', 'this', '22nd', 'day', 'of', 'february', '2021', '\\xa0 \\xa0 \\xa0 \\xa0 \\xa0 \\xa0 ', 'fredrick', 'egonda', 'ntende', '\\xa0 ', 'justice', 'of', 'the', 'constitutional', 'court', '\\xa0 \\xa0 \\xa0 ', 'elizabeth', 'musoke', '\\xa0 ', 'justice', 'of', 'the', 'constitutional', 'court', '\\xa0 ', 'barishaki', 'cheborion', '\\xa0 ', 'justice', 'of', 'the', 'constitutional', 'court', '\\xa0 ', 'kibeedi', 'muzamiru', 'muangula', '\\xa0 ', 'justice', 'of', 'the', 'constitutional', 'court', '\\xa0 ', 'irene', 'mulyagonja', '\\xa0 ', 'justice', 'of', 'the', 'constitutional', 'court', '\\xa0\\xa0 \\xa0 \\xa0 \\xa0 \\xa0 \\xa0 \\xa0 \\xa0 \\xa0 \\xa0 \\xa0 \\xa0 \\xa0 \\xa0 \\xa0']\n"
     ]
    }
   ],
   "source": [
    "tokens = [token.text for token in doc]\n",
    "print(tokens)"
   ]
  },
  {
   "cell_type": "code",
   "execution_count": 10,
   "id": "408bf9d9-fd89-4947-9a88-34659fb7bd4c",
   "metadata": {},
   "outputs": [
    {
     "data": {
      "text/plain": [
       "'!\"#$%&\\'()*+,-./:;<=>?@[\\\\]^_`{|}~'"
      ]
     },
     "execution_count": 10,
     "metadata": {},
     "output_type": "execute_result"
    }
   ],
   "source": [
    "punctuation"
   ]
  },
  {
   "cell_type": "code",
   "execution_count": 11,
   "id": "5519ff09-e727-4402-8618-117c1cbd19c7",
   "metadata": {},
   "outputs": [
    {
     "name": "stdout",
     "output_type": "stream",
     "text": [
      "The most frequent word appeared 55 times.\n"
     ]
    }
   ],
   "source": [
    "# Remove the punctuations \n",
    "punctuation = punctuation + '\\n' \n",
    "word_frequencies = {}\n",
    "for word in doc:\n",
    "    if word.text.lower() not in stopwords:\n",
    "        if word.text.lower() not in punctuation:\n",
    "            if word.text not in word_frequencies.keys():\n",
    "                word_frequencies[word.text] = 1\n",
    "            else:\n",
    "                word_frequencies[word.text] += 1\n",
    "max_frequency = max(word_frequencies.values())\n",
    "print(\"The most frequent word appeared {} times.\".format(max_frequency))"
   ]
  },
  {
   "cell_type": "code",
   "execution_count": 12,
   "id": "d4feba5b-53da-4994-9bb2-e48a64cd958a",
   "metadata": {},
   "outputs": [],
   "source": [
    "# Normalize the word frequencies\n",
    "for word in word_frequencies.keys():\n",
    "    word_frequencies[word] = word_frequencies[word]/max_frequency"
   ]
  },
  {
   "cell_type": "code",
   "execution_count": 13,
   "id": "928983c0-feda-490b-ad0f-b8bccb0a9771",
   "metadata": {},
   "outputs": [
    {
     "name": "stdout",
     "output_type": "stream",
     "text": [
      "[the republic of uganda in the constitutional court of uganda at kampala (coram: egonda-ntende, elizabeth musoke, barishaki cheborion, muzamiru kibeedi & irene mulyagonja, jjcc) constitutional petition no. 32 of 2014 between alenyo george william ::::::::::::::::::::::::::::::::::::::::::::::::: petitioner , versus the chief registrar, courts of judicature ] the secretary law council                                 ] attorney general                                 *                        respondents judgment of the court the petitioner was enrolled as an advocate of the courts of judicature of uganda in 1994., but his practice as an advocate appears to have been bedevilled by many complaints of professional misconduct that were filed against him before the law council., in the proceedings of the disciplinary committee of the law council held on 26.08.2005, 19 complaints against him were cause listed for hearing on that single day., the said complaints included one which had been filed by the then chief magistrate of gulu, his worship silver cohens okullo (rip) to the effect that he (the chief magistrate) had been physically assaulted by the petitioner on 23rd march 2004 within the premises of gulu court, vide lcd 58/2004., the disciplinary committee found the petitioner guilty of professional misconduct in lcd 58/2004 and ordered, inter alia that the petitioner “be and is hereby struck off the roll of advocates with effect from the date of this ruling, [18.09.2009/. as a consequence, the chief registrar of the courts of judicature denied the petitioner a practicing certificate, which is a prerequisite for an advocate to practice his/her profession in uganda., the petitioner brought this petition under article 137(3) of the 1995 constitution of uganda alleging that: “the denial by the chief registrar of the courts of judicature to issue him a practicing certificate is inconsistent with and contravenes his right to practice his profession as guaranteed by article 40(2) of the constitution., the purported hearing of a complaint against him by the law council without keeping him informed or notified of the proceedings contravened his right to a fair hearing as guaranteed by article 28(1) of the constitution and article 43 of the constitution., the purported reliance on the proceedings of the law council of 2009 by the chief registrar, which proceedings and rulings contravened section 36 of the advocates act, did negate the petitioner’s right to fair treatment before the law council as guaranteed by article 42 of the constitution., the denial of his right to practice while he lawfully remains on the roll of advocates and while he has never been lawfully struck off the roll as provided by the advocates act breaches his right to practice his profession. ”, the petitioner prayed for the following declarations: /., “that the proceedings of the law council of 2009 if at all they took place (which is denied) was a nullity for not affording the petitioner a hearing and hence inconsistent with the constitution., ii., that the purported striking of the petitioner off the roll of advocates never lawfully occurred and the petitioner remains on the roll of advocates and the unlawful striking off, if at all, was unconstitutional and in contravention of the constitution., hi., that the petitioner be afforded his right to practice as an advocate., iv., that the respondents meet the costs of this petition., the petition was supported by the affidavit of the petitioner., in the respondents’ answer to the petition, which was supported by the affidavit of the secretary of the law council, ms margaret apinyi, the respondents denied all the allegations and contended that: the petition was not sustainable as against the 1st and 2nd respondents who are neither legal entities nor bodies corporate capable of being sued; the petition does not raise any issues for constitutional interpretation., at the hearing of this petition, learned counsel arthur katongole appeared for the petitioner, while the learned principal state attorney (psa), mr. geoffrey atwiine, represented the respondents., submissions of the petitioner counsel katongole submitted that the ruling and act of striking the petitioner from the roll of advocates were done in a manner which was unlawful and unconstitutional in that the petitioner’s right to be heard as guaranteed by the constitution was breached, the ruling was not signed by the chairperson of the law council as required by s.36 of the advocates act, no final report was forwarded to the chief registrar as prescribed by s.21 of the advocates act and the order was not gazetted as required by s.20 of the advocates act., as a result, the petitioner has been denied his right to practice his profession for now about 12 years., counsel prayed that this court does find the procedure and decision of the disciplinary committee to be unconstitutional., submissions of the respondents mr. atwiine submitted that the petition against the 1st and 2nd respondents ought to be struck out as the chief registrar of the courts of judicature and the secretary of law council cannot be sued in their individual capacities., that as public bodies and persons, it is the attorney general who is their legal representative as provided for under article 119 (3) of the constitution., for this submission counsel referred to the case of gordon sentiba and 2 others vs. igg, supreme court civil appeal no. 6 of 2018., counsel further submitted that this court has no jurisdiction to entertain the petition as it did not raise any issue for constitutional interpretation as provided for under article 137 which confers jurisdiction on this court., that the petition only raised matters of violation of his right to practice his profession as guaranteed under article 40, contravention of his right to a fair hearing as guaranteed under article 28, and violation of his right to fair treatment before the law council guaranteed under article 42., counsel contended that none of the above matters required constitutional interpretation and ought to be brought before a “competent court” under article 50 of the constitution and not the constitutional court., for this submission, counsel referred to the authority of the attorney general vs. gen. tinyefuza constitutional appeal no. 1 of 1997 and ismail seruqo vs. kcc and attorney general constitutional appeal no. 2 of 1998., counsel concluded that for those reasons, this petition was wrongly before this court and ought to be dismissed with costs., petitioner’s rejoinder in rejoinder, counsel katongole submitted that the “acts” and “omissions” complained about in the petition are covered under the provisions of article 137(3)(b) and that the petition was properly before this court., consideration by court we shall first deal with the two preliminary points of law raised by the respondent., whether the chief registrar of the courts of judicature and the secretary of the law council are proper respondents in this matter., “legal personality” or “corporate legal entity” is a creature of statute., it is only after non-biological person(s) or bodies have been conferred with legal personality that they become competent to be joined as respondents in constitutional petitions commenced in this court., article 145 of the constitution of the republic of uganda creates the office of the chief registrar in the judiciary and provides for the appointment of the holder of the office by the president on the advice of the judicial service commission., no corporate legal personality is conferred upon that office by the constitution or any other law., the advocates act, cap., 267 assigns specific duties to the chief registrar in respect of the enrolment and practice of advocates in uganda which include 125 entering onto the roll of advocates the names of persons found eligible by the law council (s.7), issuing practicing certificates to qualifying advocates (s.11), receiving and taking action on the findings and orders of the disciplinary committee established under the advocates act (s.21), and receiving the prescribed appeal documents filed by an advocate aggrieved by any order of the 130 disciplinary committee (s.22)., if an advocate is aggrieved by the performance or non-performance of the said statutory duties by the chief registrar, it does not attract personal liability on the part of the chief registrar nor confer corporate personality on that office to be made a party to proceedings before this court., furthermore, the chief registrar cannot be sued in exercise of his/her functions 135 as such., as a judicial officer, he/she is protected by section 46 of the judicature act which provides as follows: 46., protection of judicial officers., a judge or commission or other person acting judicially shall not be liable to be sued in any civil court for any act done or ordered to be done by that person in the discharge of his or her judicial functions whether or not within the limits of his or her jurisdiction., an officer of the court or other person bonded to execute any order or warrant of any judge or person referred to in subsection (1) acting judicially, shall not be liable to be sued in any civil court in respect of any lawful or authorised act done in the execution of any such order or warrant., likewise, the office of the secretary of the law council is a public office created by section 5 of the advocates act, cap., 267 to facilitate the law council and the disciplinary committee in the discharge of their respective mandates under the iso act., nowhere does the advocates act confer corporate legal personality to the office of the secretary of the law council or otherwise give a right to a person aggrieved by the secretary’s acts or omissions to make him/her a respondent in a petition before this court., instead, section 39 of the advocates act provides for immunity of the disciplinary committee., suits against the members are prohibited by the same provision., in the premises, we agree with the submissions of the respondents that the petition against the chief registrar and the secretary of the law council is misconceived., accordingly, it is hereby struck out thereby leaving the attorney general as the sole respondent to the petition., whether the constitutional court has original jurisdiction over the subject matter of the petition., it was the attorney general’s contention that this court has no jurisdiction to entertain the petition as it does not raise any issue for constitutional interpretation as provided for under article 137., mr. atwine, counsel for the respondent, submitted that the complaints raised in the petition relate to violation of rights which call for enforcement under article 50 of the constitution and not interpretation of the constitution., he prayed that the petition be dismissed with costs for being incompetent., learned counsel arthur katongole did not agree., he submitted that the complaints raised in the petition fall within the ambit of the “acts” and “omissions” on the part of the respondents which this court is enjoined to entertain pursuant to article 137 (3)(b) of the constitution., as far as is relevant to the instant matter, the jurisdiction of the constitutional court is set out in article 137 of the constitution thus - any question as to the interpretation of this constitution shall be determined by the court of appeal sitting as the constitutional court., ... (not relevant)., a person who alleges that- (a) ... (not relevant); (b) any act or omission by any person or authority is inconsistent with or in contravention of a provision of this constitution, may petition the constitutionai court for a declaration to that effect, and for redress where appropriate., where upon determination of the petition under clause (3) of this article the constitutional court considers that there is need for redress in addition to the declaration sought, the constitutional court may-, fa) grant an order of redress; or (b) refer the matter to the high court to investigate and determine the appropriate redress., the scope of the jurisdiction of this court has been the subject of numerous judicial decisions of this court and the supreme court., what stands out in all of them is that for this court to have jurisdiction over any complaint brought before it, interpretation of a provision of the constitution must be necessary in the resolution the of the said complaint., see attorney general vs major general david tinyenfuza, supreme court constitutional appeal no. 1 of 1997, ismail seruqo vs kampala city council & another constitutional appeal no. 2 of 1998, mbabaali jude vs hon., edward kiwanuka ssekandi constitutional petition no. 0028 of 2012, herman semujiu vs attorney general constitutional petition no. 1 of. 1998, charles kabaqambe vs uganda electricity board constitutional petition no. 2 of 1999 and paul ssemwogerere and 2 others vs attorney general constitutional petition no. of 2002, engineer edward turyomuruqyendo & others ys attorney general & others constitutional petition no. 25 of 2009., wambuzi, c.j. stated it succinctly in attorney general vs major general david tinyenfuza, supreme court constitutional appeal no. 1 of 1997 thus: - “in my view, jurisdiction of the constitutional court is limited in article 137 (1) of the constitution to interpretation of the constitution., put in a different way, no other jurisdiction apart from interpretation of the constitution is given., in these circumstances i would hold that unless the question before the constitutional court depends for its determination on the interpretation or construction of a provision of the constitution, the constitutional court has no jurisdiction.”, (emphasis added)., in order to determine whether this court has jurisdiction over the complaints set out in the petition in the instant matter, the criteria set by wambuzi c.j with the concurrence of the rest of the court in ismail seruqo vs kampala city council & another constitutional appeal no. 2 of 1998, becomes very instructive., he stated thus:- \"... for the constitutional court to have jurisdiction the petition must show, on the face of it, that interpretation of a provision of the constitution is required., it is not enough to allege merely that a constitutional provision has been violated., if therefore rights have been violated as claimed, these are enforceable under article 50 of the constitution by another competent court...”, the petition before us contains alleged breaches of the constitutional rights of the petitioner by the law council in the process of carrying out disciplinary proceedings against the petitioner and the resultant refusal by the chief registrar of the courts of judicature to issue him with the practicing certificate namely: the right to practice his profession as an advocate ( article 40(2) of the constitution), the right to a fair hearing ( article 28(1) and 43 of the constitution) and the right to fair treatment (article 42 of the constitution)., the question that arises is whether the said complaints are sufficient to bring the petition within the scope of article 137 (1) & (3) the constitution which confer jurisdiction upon this court?, the petitioner’s counsel submitted that the complaints raised fall within the ambit of the “acts” and “omissions” which this court is enjoined to entertain pursuant to article 137 (3)(b) of the constitution., we disagree., whereas it is true that the complaints set out in the petition amount to allegations of contravention of certain provisions of the constitution, in our humble opinion, they do not require any constitutional interpretation., article 137 (3) (b) must be read together with article 137 (1) of the constitution in order to understand its full import., those ‘acts’ and ‘omissions’ must raise a question for constitutional interpretation that ought to arise in considering the declaration sought., there must be a controversy as to whether or not the said ‘acts’ and ‘omissions’ are constitutionally permissible or not either on account of the limitation clause, or some other law., this court and the supreme court have consistently held that not every breach of the constitution requires interpretation of the constitution., in ismail serugo vs kampala city council & another, constitutional appeal no. 2 of 1998, mulenga jsc stated thus:- \"... a person who seeks to enforce a right or freedom guaranteed under the constitution, by claiming redress for its infringement or threatened infringement, but whose claim does not call for interpretation of the constitution, has to apply to any other competent court., the constitutional court is competent for that purpose only upon determination of a petition under article 137(3)...”, in the instant matter it is clear to us that what the petitioner is seeking from this court is not the interpretation of any provision of the constitution, but redress for the alleged infringement of his constitutional rights by the law council in the process of carrying out the disciplinary proceedings against him, and the striking of his name off the roll of advocates contrary to the advocates act., he ought to have pursued the appropriate remedies under article 50 of the constitution in an action for enforcement of rights., he could also have applied for judicial review of the decision of the law council for not complying with the law and raised the procedural impropriety he sets out., alternatively, he could have appealed the impugned decision to the high court pursuant to section 22 of the advocates act., indeed, the substance of this petition is a disguised appeal and this court has no jurisdiction to entertain it., we accordingly strike it out with costs to the attorney general.,   signed and delivered at kampala this 22nd day of february 2021             fredrick egonda ntende   justice of the constitutional court       elizabeth musoke   justice of the constitutional court   barishaki cheborion   justice of the constitutional court   kibeedi muzamiru muangula   justice of the constitutional court   irene mulyagonja   justice of the constitutional court                               ]\n"
     ]
    }
   ],
   "source": [
    "sentence_tokens = [sent for sent in doc.sents]\n",
    "print(sentence_tokens)"
   ]
  },
  {
   "cell_type": "code",
   "execution_count": 14,
   "id": "76535ad3-ee89-4e0e-b65b-3ba2b1012701",
   "metadata": {},
   "outputs": [
    {
     "data": {
      "text/plain": [
       "{the republic of uganda in the constitutional court of uganda at kampala (coram: egonda-ntende, elizabeth musoke, barishaki cheborion, muzamiru kibeedi & irene mulyagonja, jjcc) constitutional petition no. 32 of 2014 between alenyo george william ::::::::::::::::::::::::::::::::::::::::::::::::: petitioner , versus the chief registrar, courts of judicature ] the secretary law council                                 ] attorney general                                 *                        respondents judgment of the court the petitioner was enrolled as an advocate of the courts of judicature of uganda in 1994.: 9.127272727272722,\n",
       " but his practice as an advocate appears to have been bedevilled by many complaints of professional misconduct that were filed against him before the law council.: 1.490909090909091,\n",
       " in the proceedings of the disciplinary committee of the law council held on 26.08.2005, 19 complaints against him were cause listed for hearing on that single day.: 1.7454545454545447,\n",
       " the said complaints included one which had been filed by the then chief magistrate of gulu, his worship silver cohens okullo (rip) to the effect that he (the chief magistrate) had been physically assaulted by the petitioner on 23rd march 2004 within the premises of gulu court, vide lcd 58/2004.: 2.8545454545454536,\n",
       " the disciplinary committee found the petitioner guilty of professional misconduct in lcd 58/2004 and ordered, inter alia that the petitioner “be and is hereby struck off the roll of advocates with effect from the date of this ruling: 2.4,\n",
       " [18.09.2009/. as a consequence, the chief registrar of the courts of judicature denied the petitioner a practicing certificate, which is a prerequisite for an advocate to practice his/her profession in uganda.: 2.0727272727272723,\n",
       " the petitioner brought this petition under article 137(3) of the 1995 constitution of uganda alleging that: “the denial by the chief registrar of the courts of judicature to issue him a practicing certificate is inconsistent with and contravenes his right to practice his profession as guaranteed by article 40(2) of the constitution.: 5.927272727272728,\n",
       " the purported hearing of a complaint against him by the law council without keeping him informed or notified of the proceedings contravened his right to a fair hearing as guaranteed by article 28(1) of the constitution and article 43 of the constitution.: 4.509090909090908,\n",
       " the purported reliance on the proceedings of the law council of 2009 by the chief registrar, which proceedings and rulings contravened section 36 of the advocates act, did negate the petitioner’s right to fair treatment before the law council as guaranteed by article 42 of the constitution.: 5.872727272727273,\n",
       " the denial of his right to practice while he lawfully remains on the roll of advocates and while he has never been lawfully struck off the roll as provided by the advocates act breaches his right to practice his profession. ”: 3.0363636363636357,\n",
       " the petitioner prayed for the following declarations: /.: 0.5454545454545454,\n",
       " “that the proceedings of the law council of 2009 if at all they took place (which is denied) was a nullity for not affording the petitioner a hearing and hence inconsistent with the constitution.: 2.7454545454545447,\n",
       " ii.: 0.01818181818181818,\n",
       " that the purported striking of the petitioner off the roll of advocates never lawfully occurred and the petitioner remains on the roll of advocates and the unlawful striking off, if at all, was unconstitutional and in contravention of the constitution.: 3.0909090909090904,\n",
       " hi.: 0.01818181818181818,\n",
       " that the petitioner be afforded his right to practice as an advocate.: 1.0545454545454545,\n",
       " iv.: 0.01818181818181818,\n",
       " that the respondents meet the costs of this petition.: 0.9636363636363636,\n",
       " the petition was supported by the affidavit of the petitioner.: 1.1636363636363636,\n",
       " in the respondents’ answer to the petition, which was supported by the affidavit of the secretary of the law council, ms margaret apinyi, the respondents denied all the allegations and contended that: the petition was not sustainable as against the 1st and 2nd respondents who are neither legal entities nor bodies corporate capable of being sued; the petition does not raise any issues for constitutional interpretation.: 5.599999999999999,\n",
       " at the hearing of this petition, learned counsel arthur katongole appeared for the petitioner, while the learned principal state attorney (psa), mr. geoffrey atwiine, represented the respondents.: 2.309090909090908,\n",
       " submissions of the petitioner counsel katongole submitted that the ruling and act of striking the petitioner from the roll of advocates were done in a manner which was unlawful and unconstitutional in that the petitioner’s right to be heard as guaranteed by the constitution was breached, the ruling was not signed by the chairperson of the law council as required by s.36 of the advocates act, no final report was forwarded to the chief registrar as prescribed by s.21 of the advocates act and the order was not gazetted as required by s.20 of the advocates act.: 8.127272727272729,\n",
       " as a result, the petitioner has been denied his right to practice his profession for now about 12 years.: 1.1454545454545453,\n",
       " counsel prayed that this court does find the procedure and decision of the disciplinary committee to be unconstitutional.: 1.7090909090909085,\n",
       " submissions of the respondents mr. atwiine submitted that the petition against the 1st and 2nd respondents ought to be struck out as the chief registrar of the courts of judicature and the secretary of law council cannot be sued in their individual capacities.: 3.5454545454545454,\n",
       " that as public bodies and persons, it is the attorney general who is their legal representative as provided for under article 119 (3) of the constitution.: 2.1454545454545455,\n",
       " for this submission counsel referred to the case of gordon sentiba and 2 others vs. igg, supreme court civil appeal no. 6 of 2018.: 1.945454545454545,\n",
       " counsel further submitted that this court has no jurisdiction to entertain the petition as it did not raise any issue for constitutional interpretation as provided for under article 137 which confers jurisdiction on this court.: 5.581818181818182,\n",
       " that the petition only raised matters of violation of his right to practice his profession as guaranteed under article 40, contravention of his right to a fair hearing as guaranteed under article 28, and violation of his right to fair treatment before the law council guaranteed under article 42.: 5.50909090909091,\n",
       " counsel contended that none of the above matters required constitutional interpretation and ought to be brought before a “competent court” under article 50 of the constitution and not the constitutional court.: 6.109090909090909,\n",
       " for this submission, counsel referred to the authority of the attorney general vs. gen. tinyefuza constitutional appeal no. 1 of 1997 and ismail seruqo vs. kcc and attorney general constitutional appeal no. 2 of 1998.: 3.890909090909091,\n",
       " counsel concluded that for those reasons, this petition was wrongly before this court and ought to be dismissed with costs.: 2.127272727272727,\n",
       " petitioner’s rejoinder in rejoinder, counsel katongole submitted that the “acts” and “omissions” complained about in the petition are covered under the provisions of article 137(3)(b) and that the petition was properly before this court.: 5.036363636363636,\n",
       " consideration by court we shall first deal with the two preliminary points of law raised by the respondent.: 1.7636363636363632,\n",
       " whether the chief registrar of the courts of judicature and the secretary of the law council are proper respondents in this matter.: 2.163636363636363,\n",
       " “legal personality” or “corporate legal entity” is a creature of statute.: 1.4363636363636358,\n",
       " it is only after non-biological person(s) or bodies have been conferred with legal personality that they become competent to be joined as respondents in constitutional petitions commenced in this court.: 2.4727272727272727,\n",
       " article 145 of the constitution of the republic of uganda creates the office of the chief registrar in the judiciary and provides for the appointment of the holder of the office by the president on the advice of the judicial service commission.: 2.5454545454545445,\n",
       " no corporate legal personality is conferred upon that office by the constitution or any other law.: 1.5999999999999999,\n",
       " the advocates act, cap.: 0.7454545454545455,\n",
       " 267 assigns specific duties to the chief registrar in respect of the enrolment and practice of advocates in uganda which include 125 entering onto the roll of advocates the names of persons found eligible by the law council (s.7), issuing practicing certificates to qualifying advocates (s.11), receiving and taking action on the findings and orders of the disciplinary committee established under the advocates act (s.21), and receiving the prescribed appeal documents filed by an advocate aggrieved by any order of the 130 disciplinary committee (s.22).: 5.672727272727271,\n",
       " if an advocate is aggrieved by the performance or non-performance of the said statutory duties by the chief registrar, it does not attract personal liability on the part of the chief registrar nor confer corporate personality on that office to be made a party to proceedings before this court.: 3.1090909090909085,\n",
       " furthermore, the chief registrar cannot be sued in exercise of his/her functions 135 as such.: 0.7272727272727273,\n",
       " as a judicial officer, he/she is protected by section 46 of the judicature act which provides as follows: 46.: 0.8727272727272728,\n",
       " protection of judicial officers.: 0.14545454545454545,\n",
       " a judge or commission or other person acting judicially shall not be liable to be sued in any civil court for any act done or ordered to be done by that person in the discharge of his or her judicial functions whether or not within the limits of his or her jurisdiction.: 2.5272727272727264,\n",
       " an officer of the court or other person bonded to execute any order or warrant of any judge or person referred to in subsection (1) acting judicially, shall not be liable to be sued in any civil court in respect of any lawful or authorised act done in the execution of any such order or warrant.: 3.69090909090909,\n",
       " likewise, the office of the secretary of the law council is a public office created by section 5 of the advocates act, cap.: 2.181818181818181,\n",
       " 267 to facilitate the law council and the disciplinary committee in the discharge of their respective mandates under the iso act.: 1.6181818181818177,\n",
       " nowhere does the advocates act confer corporate legal personality to the office of the secretary of the law council or otherwise give a right to a person aggrieved by the secretary’s acts or omissions to make him/her a respondent in a petition before this court.: 4.781818181818181,\n",
       " instead, section 39 of the advocates act provides for immunity of the disciplinary committee.: 1.2,\n",
       " suits against the members are prohibited by the same provision.: 0.1818181818181818,\n",
       " in the premises, we agree with the submissions of the respondents that the petition against the chief registrar and the secretary of the law council is misconceived.: 2.5636363636363635,\n",
       " accordingly, it is hereby struck out thereby leaving the attorney general as the sole respondent to the petition.: 1.3636363636363638,\n",
       " whether the constitutional court has original jurisdiction over the subject matter of the petition.: 2.8181818181818175,\n",
       " it was the attorney general’s contention that this court has no jurisdiction to entertain the petition as it does not raise any issue for constitutional interpretation as provided for under article 137.: 4.454545454545455,\n",
       " mr. atwine, counsel for the respondent, submitted that the complaints raised in the petition relate to violation of rights which call for enforcement under article 50 of the constitution and not interpretation of the constitution.: 3.8909090909090907,\n",
       " he prayed that the petition be dismissed with costs for being incompetent.: 0.8363636363636364,\n",
       " learned counsel arthur katongole did not agree.: 0.4181818181818182,\n",
       " he submitted that the complaints raised in the petition fall within the ambit of the “acts” and “omissions” on the part of the respondents which this court is enjoined to entertain pursuant to article 137 (3)(b) of the constitution.: 5.109090909090909,\n",
       " as far as is relevant to the instant matter, the jurisdiction of the constitutional court is set out in article 137 of the constitution thus - any question as to the interpretation of this constitution shall be determined by the court of appeal sitting as the constitutional court.: 7.781818181818183,\n",
       " ... (not relevant).: 0.16363636363636364,\n",
       " a person who alleges that- (a) ... (not relevant); (b) any act or omission by any person or authority is inconsistent with or in contravention of a provision of this constitution, may petition the constitutionai court for a declaration to that effect, and for redress where appropriate.: 3.8181818181818183,\n",
       " where upon determination of the petition under clause (3) of this article the constitutional court considers that there is need for redress in addition to the declaration sought, the constitutional court may-: 5.072727272727272,\n",
       " fa) grant an order of redress; or (b) refer the matter to the high court to investigate and determine the appropriate redress.: 1.709090909090909,\n",
       " the scope of the jurisdiction of this court has been the subject of numerous judicial decisions of this court and the supreme court.: 3.5818181818181816,\n",
       " what stands out in all of them is that for this court to have jurisdiction over any complaint brought before it, interpretation of a provision of the constitution must be necessary in the resolution the of the said complaint.: 2.6909090909090905,\n",
       " see attorney general vs major general david tinyenfuza, supreme court constitutional appeal no. 1 of 1997, ismail seruqo vs kampala city council & another constitutional appeal no. 2 of 1998, mbabaali jude vs hon.: 5.454545454545456,\n",
       " edward kiwanuka ssekandi constitutional petition no. 0028 of 2012, herman semujiu vs attorney general constitutional petition no. 1 of. 1998, charles kabaqambe vs uganda electricity board constitutional petition no. 2 of 1999 and paul ssemwogerere and 2 others vs attorney general constitutional petition no. of 2002, engineer edward turyomuruqyendo & others ys attorney general & others constitutional petition no. 25 of 2009.: 9.963636363636361,\n",
       " wambuzi, c.j. stated it succinctly in attorney general vs major general david tinyenfuza, supreme court constitutional appeal no. 1 of 1997 thus: - “in my view, jurisdiction of the constitutional court is limited in article 137 (1) of the constitution to interpretation of the constitution.: 8.163636363636366,\n",
       " put in a different way, no other jurisdiction apart from interpretation of the constitution is given.: 1.3272727272727272,\n",
       " in these circumstances i would hold that unless the question before the constitutional court depends for its determination on the interpretation or construction of a provision of the constitution, the constitutional court has no jurisdiction.”: 5.2727272727272725,\n",
       " (emphasis added).: 0.03636363636363636,\n",
       " in order to determine whether this court has jurisdiction over the complaints set out in the petition in the instant matter, the criteria set by wambuzi c.j with the concurrence of the rest of the court in ismail seruqo vs kampala city council & another constitutional appeal no. 2 of 1998, becomes very instructive.: 5.709090909090909,\n",
       " he stated thus:- \"... for the constitutional court to have jurisdiction the petition must show, on the face of it, that interpretation of a provision of the constitution is required.: 4.054545454545455,\n",
       " it is not enough to allege merely that a constitutional provision has been violated.: 0.9272727272727272,\n",
       " if therefore rights have been violated as claimed, these are enforceable under article 50 of the constitution by another competent court...”: 2.8909090909090907,\n",
       " the petition before us contains alleged breaches of the constitutional rights of the petitioner by the law council in the process of carrying out disciplinary proceedings against the petitioner and the resultant refusal by the chief registrar of the courts of judicature to issue him with the practicing certificate namely: the right to practice his profession as an advocate ( article 40(2) of the constitution), the right to a fair hearing ( article 28(1) and 43 of the constitution) and the right to fair treatment (article 42 of the constitution).: 10.236363636363636,\n",
       " the question that arises is whether the said complaints are sufficient to bring the petition within the scope of article 137 (1) & (3) the constitution which confer jurisdiction upon this court?: 4.0,\n",
       " the petitioner’s counsel submitted that the complaints raised fall within the ambit of the “acts” and “omissions” which this court is enjoined to entertain pursuant to article 137 (3)(b) of the constitution.: 4.890909090909091,\n",
       " we disagree.: 0.01818181818181818,\n",
       " whereas it is true that the complaints set out in the petition amount to allegations of contravention of certain provisions of the constitution, in our humble opinion, they do not require any constitutional interpretation.: 2.836363636363636,\n",
       " article 137 (3) (b) must be read together with article 137 (1) of the constitution in order to understand its full import.: 2.5272727272727273,\n",
       " those ‘acts’ and ‘omissions’ must raise a question for constitutional interpretation that ought to arise in considering the declaration sought.: 1.9272727272727268,\n",
       " there must be a controversy as to whether or not the said ‘acts’ and ‘omissions’ are constitutionally permissible or not either on account of the limitation clause, or some other law.: 1.2000000000000002,\n",
       " this court and the supreme court have consistently held that not every breach of the constitution requires interpretation of the constitution.: 3.854545454545454,\n",
       " in ismail serugo vs kampala city council & another, constitutional appeal no. 2 of 1998, mulenga jsc stated thus:- \"... a person who seeks to enforce a right or freedom guaranteed under the constitution, by claiming redress for its infringement or threatened infringement, but whose claim does not call for interpretation of the constitution, has to apply to any other competent court.: 5.890909090909091,\n",
       " the constitutional court is competent for that purpose only upon determination of a petition under article 137(3)...”: 3.4545454545454537,\n",
       " in the instant matter it is clear to us that what the petitioner is seeking from this court is not the interpretation of any provision of the constitution, but redress for the alleged infringement of his constitutional rights by the law council in the process of carrying out the disciplinary proceedings against him, and the striking of his name off the roll of advocates contrary to the advocates act.: 6.327272727272727,\n",
       " he ought to have pursued the appropriate remedies under article 50 of the constitution in an action for enforcement of rights.: 1.6363636363636362,\n",
       " he could also have applied for judicial review of the decision of the law council for not complying with the law and raised the procedural impropriety he sets out.: 1.6727272727272722,\n",
       " alternatively, he could have appealed the impugned decision to the high court pursuant to section 22 of the advocates act.: 2.018181818181818,\n",
       " indeed, the substance of this petition is a disguised appeal and this court has no jurisdiction to entertain it.: 2.2545454545454544,\n",
       " we accordingly strike it out with costs to the attorney general.: 0.6181818181818182,\n",
       "   signed and delivered at kampala this 22nd day of february 2021             fredrick egonda ntende   justice of the constitutional court       elizabeth musoke   justice of the constitutional court   barishaki cheborion   justice of the constitutional court   kibeedi muzamiru muangula   justice of the constitutional court   irene mulyagonja   justice of the constitutional court                               : 11.254545454545458}"
      ]
     },
     "execution_count": 14,
     "metadata": {},
     "output_type": "execute_result"
    }
   ],
   "source": [
    "sentence_scores = {}\n",
    "for sent in sentence_tokens:\n",
    "    for word in sent:\n",
    "        if word.text.lower() in word_frequencies.keys():\n",
    "            if sent not in sentence_scores.keys():\n",
    "                sentence_scores[sent] = word_frequencies[word.text.lower()]\n",
    "            else:\n",
    "                sentence_scores[sent] += word_frequencies[word.text.lower()]\n",
    "sentence_scores"
   ]
  },
  {
   "cell_type": "code",
   "execution_count": 15,
   "id": "9e152564-0406-4e3a-95cd-db7ade388a44",
   "metadata": {},
   "outputs": [
    {
     "data": {
      "text/plain": [
       "19"
      ]
     },
     "execution_count": 15,
     "metadata": {},
     "output_type": "execute_result"
    }
   ],
   "source": [
    "from heapq import nlargest\n",
    "select_length = int(len(sentence_tokens)*0.2)\n",
    "select_length"
   ]
  },
  {
   "cell_type": "code",
   "execution_count": 16,
   "id": "a6d82edb-bf89-4950-87de-0fbbc7ca6b4a",
   "metadata": {},
   "outputs": [
    {
     "data": {
      "text/plain": [
       "[  signed and delivered at kampala this 22nd day of february 2021             fredrick egonda ntende   justice of the constitutional court       elizabeth musoke   justice of the constitutional court   barishaki cheborion   justice of the constitutional court   kibeedi muzamiru muangula   justice of the constitutional court   irene mulyagonja   justice of the constitutional court                               ,\n",
       " the petition before us contains alleged breaches of the constitutional rights of the petitioner by the law council in the process of carrying out disciplinary proceedings against the petitioner and the resultant refusal by the chief registrar of the courts of judicature to issue him with the practicing certificate namely: the right to practice his profession as an advocate ( article 40(2) of the constitution), the right to a fair hearing ( article 28(1) and 43 of the constitution) and the right to fair treatment (article 42 of the constitution).,\n",
       " edward kiwanuka ssekandi constitutional petition no. 0028 of 2012, herman semujiu vs attorney general constitutional petition no. 1 of. 1998, charles kabaqambe vs uganda electricity board constitutional petition no. 2 of 1999 and paul ssemwogerere and 2 others vs attorney general constitutional petition no. of 2002, engineer edward turyomuruqyendo & others ys attorney general & others constitutional petition no. 25 of 2009.,\n",
       " the republic of uganda in the constitutional court of uganda at kampala (coram: egonda-ntende, elizabeth musoke, barishaki cheborion, muzamiru kibeedi & irene mulyagonja, jjcc) constitutional petition no. 32 of 2014 between alenyo george william ::::::::::::::::::::::::::::::::::::::::::::::::: petitioner , versus the chief registrar, courts of judicature ] the secretary law council                                 ] attorney general                                 *                        respondents judgment of the court the petitioner was enrolled as an advocate of the courts of judicature of uganda in 1994.,\n",
       " wambuzi, c.j. stated it succinctly in attorney general vs major general david tinyenfuza, supreme court constitutional appeal no. 1 of 1997 thus: - “in my view, jurisdiction of the constitutional court is limited in article 137 (1) of the constitution to interpretation of the constitution.,\n",
       " submissions of the petitioner counsel katongole submitted that the ruling and act of striking the petitioner from the roll of advocates were done in a manner which was unlawful and unconstitutional in that the petitioner’s right to be heard as guaranteed by the constitution was breached, the ruling was not signed by the chairperson of the law council as required by s.36 of the advocates act, no final report was forwarded to the chief registrar as prescribed by s.21 of the advocates act and the order was not gazetted as required by s.20 of the advocates act.,\n",
       " as far as is relevant to the instant matter, the jurisdiction of the constitutional court is set out in article 137 of the constitution thus - any question as to the interpretation of this constitution shall be determined by the court of appeal sitting as the constitutional court.,\n",
       " in the instant matter it is clear to us that what the petitioner is seeking from this court is not the interpretation of any provision of the constitution, but redress for the alleged infringement of his constitutional rights by the law council in the process of carrying out the disciplinary proceedings against him, and the striking of his name off the roll of advocates contrary to the advocates act.,\n",
       " counsel contended that none of the above matters required constitutional interpretation and ought to be brought before a “competent court” under article 50 of the constitution and not the constitutional court.,\n",
       " the petitioner brought this petition under article 137(3) of the 1995 constitution of uganda alleging that: “the denial by the chief registrar of the courts of judicature to issue him a practicing certificate is inconsistent with and contravenes his right to practice his profession as guaranteed by article 40(2) of the constitution.,\n",
       " in ismail serugo vs kampala city council & another, constitutional appeal no. 2 of 1998, mulenga jsc stated thus:- \"... a person who seeks to enforce a right or freedom guaranteed under the constitution, by claiming redress for its infringement or threatened infringement, but whose claim does not call for interpretation of the constitution, has to apply to any other competent court.,\n",
       " the purported reliance on the proceedings of the law council of 2009 by the chief registrar, which proceedings and rulings contravened section 36 of the advocates act, did negate the petitioner’s right to fair treatment before the law council as guaranteed by article 42 of the constitution.,\n",
       " in order to determine whether this court has jurisdiction over the complaints set out in the petition in the instant matter, the criteria set by wambuzi c.j with the concurrence of the rest of the court in ismail seruqo vs kampala city council & another constitutional appeal no. 2 of 1998, becomes very instructive.,\n",
       " 267 assigns specific duties to the chief registrar in respect of the enrolment and practice of advocates in uganda which include 125 entering onto the roll of advocates the names of persons found eligible by the law council (s.7), issuing practicing certificates to qualifying advocates (s.11), receiving and taking action on the findings and orders of the disciplinary committee established under the advocates act (s.21), and receiving the prescribed appeal documents filed by an advocate aggrieved by any order of the 130 disciplinary committee (s.22).,\n",
       " in the respondents’ answer to the petition, which was supported by the affidavit of the secretary of the law council, ms margaret apinyi, the respondents denied all the allegations and contended that: the petition was not sustainable as against the 1st and 2nd respondents who are neither legal entities nor bodies corporate capable of being sued; the petition does not raise any issues for constitutional interpretation.,\n",
       " counsel further submitted that this court has no jurisdiction to entertain the petition as it did not raise any issue for constitutional interpretation as provided for under article 137 which confers jurisdiction on this court.,\n",
       " that the petition only raised matters of violation of his right to practice his profession as guaranteed under article 40, contravention of his right to a fair hearing as guaranteed under article 28, and violation of his right to fair treatment before the law council guaranteed under article 42.,\n",
       " see attorney general vs major general david tinyenfuza, supreme court constitutional appeal no. 1 of 1997, ismail seruqo vs kampala city council & another constitutional appeal no. 2 of 1998, mbabaali jude vs hon.,\n",
       " in these circumstances i would hold that unless the question before the constitutional court depends for its determination on the interpretation or construction of a provision of the constitution, the constitutional court has no jurisdiction.”]"
      ]
     },
     "execution_count": 16,
     "metadata": {},
     "output_type": "execute_result"
    }
   ],
   "source": [
    "summary = nlargest(select_length, sentence_scores, key = sentence_scores.get)\n",
    "summary"
   ]
  },
  {
   "cell_type": "code",
   "execution_count": 17,
   "id": "36c1d04c-9c78-43d8-aecb-9691873c500a",
   "metadata": {},
   "outputs": [
    {
     "name": "stdout",
     "output_type": "stream",
     "text": [
      "  signed and delivered at kampala this 22nd day of february 2021             fredrick egonda ntende   justice of the constitutional court       elizabeth musoke   justice of the constitutional court   barishaki cheborion   justice of the constitutional court   kibeedi muzamiru muangula   justice of the constitutional court   irene mulyagonja   justice of the constitutional court                                the petition before us contains alleged breaches of the constitutional rights of the petitioner by the law council in the process of carrying out disciplinary proceedings against the petitioner and the resultant refusal by the chief registrar of the courts of judicature to issue him with the practicing certificate namely: the right to practice his profession as an advocate ( article 40(2) of the constitution), the right to a fair hearing ( article 28(1) and 43 of the constitution) and the right to fair treatment (article 42 of the constitution). edward kiwanuka ssekandi constitutional petition no. 0028 of 2012, herman semujiu vs attorney general constitutional petition no. 1 of. 1998, charles kabaqambe vs uganda electricity board constitutional petition no. 2 of 1999 and paul ssemwogerere and 2 others vs attorney general constitutional petition no. of 2002, engineer edward turyomuruqyendo & others ys attorney general & others constitutional petition no. 25 of 2009. the republic of uganda in the constitutional court of uganda at kampala (coram: egonda-ntende, elizabeth musoke, barishaki cheborion, muzamiru kibeedi & irene mulyagonja, jjcc) constitutional petition no. 32 of 2014 between alenyo george william ::::::::::::::::::::::::::::::::::::::::::::::::: petitioner , versus the chief registrar, courts of judicature ] the secretary law council                                 ] attorney general                                 *                        respondents judgment of the court the petitioner was enrolled as an advocate of the courts of judicature of uganda in 1994. wambuzi, c.j. stated it succinctly in attorney general vs major general david tinyenfuza, supreme court constitutional appeal no. 1 of 1997 thus: - “in my view, jurisdiction of the constitutional court is limited in article 137 (1) of the constitution to interpretation of the constitution. submissions of the petitioner counsel katongole submitted that the ruling and act of striking the petitioner from the roll of advocates were done in a manner which was unlawful and unconstitutional in that the petitioner’s right to be heard as guaranteed by the constitution was breached, the ruling was not signed by the chairperson of the law council as required by s.36 of the advocates act, no final report was forwarded to the chief registrar as prescribed by s.21 of the advocates act and the order was not gazetted as required by s.20 of the advocates act. as far as is relevant to the instant matter, the jurisdiction of the constitutional court is set out in article 137 of the constitution thus - any question as to the interpretation of this constitution shall be determined by the court of appeal sitting as the constitutional court. in the instant matter it is clear to us that what the petitioner is seeking from this court is not the interpretation of any provision of the constitution, but redress for the alleged infringement of his constitutional rights by the law council in the process of carrying out the disciplinary proceedings against him, and the striking of his name off the roll of advocates contrary to the advocates act. counsel contended that none of the above matters required constitutional interpretation and ought to be brought before a “competent court” under article 50 of the constitution and not the constitutional court. the petitioner brought this petition under article 137(3) of the 1995 constitution of uganda alleging that: “the denial by the chief registrar of the courts of judicature to issue him a practicing certificate is inconsistent with and contravenes his right to practice his profession as guaranteed by article 40(2) of the constitution. in ismail serugo vs kampala city council & another, constitutional appeal no. 2 of 1998, mulenga jsc stated thus:- \"... a person who seeks to enforce a right or freedom guaranteed under the constitution, by claiming redress for its infringement or threatened infringement, but whose claim does not call for interpretation of the constitution, has to apply to any other competent court. the purported reliance on the proceedings of the law council of 2009 by the chief registrar, which proceedings and rulings contravened section 36 of the advocates act, did negate the petitioner’s right to fair treatment before the law council as guaranteed by article 42 of the constitution. in order to determine whether this court has jurisdiction over the complaints set out in the petition in the instant matter, the criteria set by wambuzi c.j with the concurrence of the rest of the court in ismail seruqo vs kampala city council & another constitutional appeal no. 2 of 1998, becomes very instructive. 267 assigns specific duties to the chief registrar in respect of the enrolment and practice of advocates in uganda which include 125 entering onto the roll of advocates the names of persons found eligible by the law council (s.7), issuing practicing certificates to qualifying advocates (s.11), receiving and taking action on the findings and orders of the disciplinary committee established under the advocates act (s.21), and receiving the prescribed appeal documents filed by an advocate aggrieved by any order of the 130 disciplinary committee (s.22). in the respondents’ answer to the petition, which was supported by the affidavit of the secretary of the law council, ms margaret apinyi, the respondents denied all the allegations and contended that: the petition was not sustainable as against the 1st and 2nd respondents who are neither legal entities nor bodies corporate capable of being sued; the petition does not raise any issues for constitutional interpretation. counsel further submitted that this court has no jurisdiction to entertain the petition as it did not raise any issue for constitutional interpretation as provided for under article 137 which confers jurisdiction on this court. that the petition only raised matters of violation of his right to practice his profession as guaranteed under article 40, contravention of his right to a fair hearing as guaranteed under article 28, and violation of his right to fair treatment before the law council guaranteed under article 42. see attorney general vs major general david tinyenfuza, supreme court constitutional appeal no. 1 of 1997, ismail seruqo vs kampala city council & another constitutional appeal no. 2 of 1998, mbabaali jude vs hon. in these circumstances i would hold that unless the question before the constitutional court depends for its determination on the interpretation or construction of a provision of the constitution, the constitutional court has no jurisdiction.”\n"
     ]
    }
   ],
   "source": [
    "#Combine the summary sentences together\n",
    "final_summary = [word.text for word in summary]\n",
    "summary = ' '.join(final_summary)\n",
    "print(summary)"
   ]
  },
  {
   "cell_type": "code",
   "execution_count": 18,
   "id": "bb426d65-b446-4d0e-9f05-eb84a82bb71a",
   "metadata": {},
   "outputs": [
    {
     "name": "stdout",
     "output_type": "stream",
     "text": [
      "Word count of the original paper:  18155\n",
      "Word count after summerization:  7052\n"
     ]
    }
   ],
   "source": [
    "print(\"Word count of the original paper: \", len(case_text))\n",
    "print(\"Word count after summerization: \", len(summary))"
   ]
  }
 ],
 "metadata": {
  "kernelspec": {
   "display_name": "Python 3 (ipykernel)",
   "language": "python",
   "name": "python3"
  },
  "language_info": {
   "codemirror_mode": {
    "name": "ipython",
    "version": 3
   },
   "file_extension": ".py",
   "mimetype": "text/x-python",
   "name": "python",
   "nbconvert_exporter": "python",
   "pygments_lexer": "ipython3",
   "version": "3.9.7"
  }
 },
 "nbformat": 4,
 "nbformat_minor": 5
}
